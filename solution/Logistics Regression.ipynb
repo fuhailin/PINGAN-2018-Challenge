{
 "cells": [
  {
   "cell_type": "markdown",
   "metadata": {},
   "source": [
    "https://www.kaggle.com/vincepota/predicting-customers-who-will-charge-off"
   ]
  },
  {
   "cell_type": "code",
   "execution_count": 3,
   "metadata": {
    "collapsed": true
   },
   "outputs": [],
   "source": [
    "import pandas as pd\n",
    "import numpy as np\n",
    "from sklearn.linear_model import LogisticRegression\n",
    "from sklearn.model_selection import train_test_split\n",
    "from sklearn.model_selection import cross_val_score\n",
    "from sklearn import metrics\n",
    "from sklearn import preprocessing\n",
    "from sklearn.ensemble import RandomForestClassifier, GradientBoostingClassifier\n",
    "from imblearn.over_sampling import SMOTE\n",
    "\n",
    "import matplotlib.pylab as plt\n",
    "%matplotlib inline"
   ]
  },
  {
   "cell_type": "code",
   "execution_count": 25,
   "metadata": {},
   "outputs": [],
   "source": [
    "train_df = pd.read_csv('../dump/train_modified.csv')\n",
    "test_df = pd.read_csv('../dump/test_modified.csv')\n",
    "label = pd.read_csv('../input/test_label.csv')"
   ]
  },
  {
   "cell_type": "code",
   "execution_count": 26,
   "metadata": {},
   "outputs": [
    {
     "data": {
      "text/plain": [
       "0.0    706610\n",
       "1.0      3293\n",
       "Name: acc_now_delinq, dtype: int64"
      ]
     },
     "execution_count": 26,
     "metadata": {},
     "output_type": "execute_result"
    }
   ],
   "source": [
    "target='acc_now_delinq'\n",
    "IDcol = 'member_id'\n",
    "train_df[target].value_counts()\n"
   ]
  },
  {
   "cell_type": "code",
   "execution_count": 27,
   "metadata": {},
   "outputs": [],
   "source": [
    "#Combine into data:\n",
    "train_df['source']= 'train'\n",
    "test_df['source'] = 'test'\n",
    "df=pd.concat([train_df,test_df],ignore_index=True)"
   ]
  },
  {
   "cell_type": "code",
   "execution_count": 28,
   "metadata": {},
   "outputs": [
    {
     "data": {
      "text/plain": [
       "((177476, 90), (177476, 2))"
      ]
     },
     "execution_count": 28,
     "metadata": {},
     "output_type": "execute_result"
    }
   ],
   "source": [
    "test_df.shape, label.shape"
   ]
  },
  {
   "cell_type": "code",
   "execution_count": 29,
   "metadata": {
    "collapsed": true
   },
   "outputs": [],
   "source": [
    "predictors = [x for x in train_df.columns if x not in [target,IDcol, 'source']]"
   ]
  },
  {
   "cell_type": "code",
   "execution_count": 30,
   "metadata": {},
   "outputs": [
    {
     "name": "stdout",
     "output_type": "stream",
     "text": [
      "[[-0.14904726 -0.3095537  -0.02164747 ... -0.05149642  0.97077001\n",
      "  -0.97077001]\n",
      " [-0.14904726 -0.49503049 -0.02164747 ... -0.05149642  0.97077001\n",
      "  -0.97077001]\n",
      " [-0.14904726  0.40607759 -0.02164747 ... -0.05149642 -1.03011011\n",
      "   1.03011011]\n",
      " ...\n",
      " [-0.14904726 -0.33737521 -0.02164747 ... -0.05149642  0.97077001\n",
      "  -0.97077001]\n",
      " [-0.14904726 -0.677416   -0.02164747 ... -0.05149642  0.97077001\n",
      "  -0.97077001]\n",
      " [-0.14904726 -0.0931641  -0.02164747 ... -0.05149642  0.97077001\n",
      "  -0.97077001]]\n",
      "   \n",
      "(887379, 88)\n"
     ]
    }
   ],
   "source": [
    "X_scaled = preprocessing.scale(df[predictors])  # 标准化的过程为两步：去均值的中心化（均值变为0）；方差的规模化（方差变为1）。\n",
    "print(X_scaled)\n",
    "print('   ')\n",
    "print(X_scaled.shape)"
   ]
  },
  {
   "cell_type": "code",
   "execution_count": 31,
   "metadata": {
    "collapsed": true
   },
   "outputs": [],
   "source": [
    "x_train = df.loc[df['source']=='train'][predictors]\n",
    "y_train = df.loc[df['source']=='train'][target]\n",
    "x_test = df.loc[df['source']=='test'][predictors]\n",
    "y_test = label[target]"
   ]
  },
  {
   "cell_type": "code",
   "execution_count": 32,
   "metadata": {},
   "outputs": [
    {
     "data": {
      "text/plain": [
       "((887379, 91), (177476, 88))"
      ]
     },
     "execution_count": 32,
     "metadata": {},
     "output_type": "execute_result"
    }
   ],
   "source": [
    " df.shape ,x_test.shape"
   ]
  },
  {
   "cell_type": "code",
   "execution_count": 42,
   "metadata": {},
   "outputs": [
    {
     "name": "stderr",
     "output_type": "stream",
     "text": [
      "D:\\ProgramData\\Anaconda3\\lib\\site-packages\\sklearn\\linear_model\\logistic.py:1228: UserWarning: 'n_jobs' > 1 does not have any effect when 'solver' is set to 'liblinear'. Got 'n_jobs' = -1.\n",
      "  \" = {}.\".format(self.n_jobs))\n"
     ]
    },
    {
     "name": "stdout",
     "output_type": "stream",
     "text": [
      "[LibLinear]"
     ]
    },
    {
     "name": "stderr",
     "output_type": "stream",
     "text": [
      "D:\\ProgramData\\Anaconda3\\lib\\site-packages\\sklearn\\svm\\base.py:898: ConvergenceWarning: Liblinear failed to converge, increase the number of iterations.\n",
      "  \"the number of iterations.\", ConvergenceWarning)\n"
     ]
    },
    {
     "data": {
      "text/plain": [
       "LogisticRegression(C=1.0, class_weight='balanced', dual=False,\n",
       "          fit_intercept=True, intercept_scaling=1, max_iter=100,\n",
       "          multi_class='ovr', n_jobs=-1, penalty='l1', random_state=None,\n",
       "          solver='liblinear', tol=0.0001, verbose=1, warm_start=False)"
      ]
     },
     "execution_count": 42,
     "metadata": {},
     "output_type": "execute_result"
    }
   ],
   "source": [
    "from sklearn.linear_model import LogisticRegression\n",
    "import numpy as np\n",
    "# model = LogisticRegression(class_weight={0: 0.15, 1: 0.85})\n",
    "model = LogisticRegression(class_weight='balanced', verbose=1, n_jobs=-1, penalty ='l1')\n",
    "model.fit(x_train, y_train)"
   ]
  },
  {
   "cell_type": "code",
   "execution_count": 43,
   "metadata": {
    "collapsed": true
   },
   "outputs": [],
   "source": [
    "from sklearn import metrics\n",
    "p_train=model.predict(x_train)\n",
    "p_test = model.predict(x_test)"
   ]
  },
  {
   "cell_type": "code",
   "execution_count": 47,
   "metadata": {},
   "outputs": [
    {
     "name": "stdout",
     "output_type": "stream",
     "text": [
      "0.8040102043831107\n",
      "             precision    recall  f1-score   support\n",
      "\n",
      "        0.0       1.00      0.73      0.84    706610\n",
      "        1.0       0.01      0.74      0.02      3293\n",
      "\n",
      "avg / total       0.99      0.73      0.84    709903\n",
      "\n",
      "********\n",
      "             precision    recall  f1-score   support\n",
      "\n",
      "          0       1.00      0.73      0.84    176655\n",
      "          1       0.01      0.71      0.02       821\n",
      "\n",
      "avg / total       0.99      0.73      0.84    177476\n",
      "\n"
     ]
    }
   ],
   "source": [
    "roc=metrics.roc_auc_score(y_test, model.predict_proba(x_test)[:,1])\n",
    "print(roc)\n",
    "print(metrics.classification_report(y_train,p_train))\n",
    "print('*'*8)\n",
    "print(metrics.classification_report(y_test,p_test))"
   ]
  },
  {
   "cell_type": "code",
   "execution_count": 6,
   "metadata": {
    "collapsed": true
   },
   "outputs": [],
   "source": [
    "def run_models(X_train, y_train, X_test, y_test, model_type = 'Non-balanced'):\n",
    "    \n",
    "    clfs = {'GradientBoosting': GradientBoostingClassifier(max_depth= 6, n_estimators=100, max_features = 0.3),\n",
    "            'LogisticRegression' : LogisticRegression(),\n",
    "            #'GaussianNB': GaussianNB(),\n",
    "            'RandomForestClassifier': RandomForestClassifier(n_estimators=10)\n",
    "            }\n",
    "    cols = ['model','matthews_corrcoef', 'roc_auc_score', 'precision_score', 'recall_score','f1_score']\n",
    "\n",
    "    models_report = pd.DataFrame(columns = cols)\n",
    "    conf_matrix = dict()\n",
    "\n",
    "    for clf, clf_name in zip(clfs.values(), clfs.keys()):\n",
    "\n",
    "        clf.fit(X_train, y_train)\n",
    "\n",
    "        y_pred = clf.predict(X_test)\n",
    "        y_score = clf.predict_proba(X_test)[:,1]\n",
    "\n",
    "        print('computing {} - {} '.format(clf_name, model_type))\n",
    "\n",
    "        tmp = pd.Series({'model_type': model_type,\n",
    "                         'model': clf_name,\n",
    "                         'roc_auc_score' : metrics.roc_auc_score(y_test, y_score),\n",
    "                         'matthews_corrcoef': metrics.matthews_corrcoef(y_test, y_pred),\n",
    "                         'precision_score': metrics.precision_score(y_test, y_pred),\n",
    "                         'recall_score': metrics.recall_score(y_test, y_pred),\n",
    "                         'f1_score': metrics.f1_score(y_test, y_pred)})\n",
    "\n",
    "        models_report = models_report.append(tmp, ignore_index = True)\n",
    "        conf_matrix[clf_name] = pd.crosstab(y_test, y_pred, rownames=['True'], colnames= ['Predicted'], margins=False)\n",
    "        fpr, tpr, thresholds = metrics.roc_curve(y_test, y_score, drop_intermediate = False, pos_label = 1)\n",
    "\n",
    "        plt.figure(1, figsize=(6,6))\n",
    "        plt.xlabel('false positive rate')\n",
    "        plt.ylabel('true positive rate')\n",
    "        plt.title('ROC curve - {}'.format(model_type))\n",
    "        plt.plot(fpr, tpr, label = clf_name )\n",
    "        plt.legend(loc=2, prop={'size':11})\n",
    "    plt.plot([0,1],[0,1], color = 'black')\n",
    "    \n",
    "    return models_report, conf_matrix"
   ]
  },
  {
   "cell_type": "code",
   "execution_count": 9,
   "metadata": {},
   "outputs": [
    {
     "name": "stdout",
     "output_type": "stream",
     "text": [
      "computing GradientBoosting - Non-balanced \n",
      "computing LogisticRegression - Non-balanced \n",
      "computing RandomForestClassifier - Non-balanced \n"
     ]
    },
    {
     "name": "stderr",
     "output_type": "stream",
     "text": [
      "D:\\ProgramData\\Anaconda3\\lib\\site-packages\\sklearn\\metrics\\classification.py:538: RuntimeWarning: invalid value encountered in true_divide\n",
      "  mcc = cov_ytyp / np.sqrt(cov_ytyt * cov_ypyp)\n",
      "D:\\ProgramData\\Anaconda3\\lib\\site-packages\\sklearn\\metrics\\classification.py:1135: UndefinedMetricWarning: Precision is ill-defined and being set to 0.0 due to no predicted samples.\n",
      "  'precision', 'predicted', average, warn_for)\n",
      "D:\\ProgramData\\Anaconda3\\lib\\site-packages\\sklearn\\metrics\\classification.py:1135: UndefinedMetricWarning: F-score is ill-defined and being set to 0.0 due to no predicted samples.\n",
      "  'precision', 'predicted', average, warn_for)\n"
     ]
    },
    {
     "data": {
      "image/png": "[encoded data removed]",
      "text/plain": [
       "<matplotlib.figure.Figure at 0x1f501a292b0>"
      ]
     },
     "metadata": {},
     "output_type": "display_data"
    }
   ],
   "source": [
    "#mpl.rc(\"savefig\", dpi=300)\n",
    "X_train, X_test, y_train, y_test = train_test_split(X_scaled, train_df[target].values, test_size=0.4, random_state=0)\n",
    "models_report, conf_matrix = run_models(X_train, y_train, X_test, y_test, model_type = 'Non-balanced')"
   ]
  },
  {
   "cell_type": "code",
   "execution_count": 10,
   "metadata": {},
   "outputs": [
    {
     "data": {
      "text/html": [
       "<div>\n",
       "<style>\n",
       "    .dataframe thead tr:only-child th {\n",
       "        text-align: right;\n",
       "    }\n",
       "\n",
       "    .dataframe thead th {\n",
       "        text-align: left;\n",
       "    }\n",
       "\n",
       "    .dataframe tbody tr th {\n",
       "        vertical-align: top;\n",
       "    }\n",
       "</style>\n",
       "<table border=\"1\" class=\"dataframe\">\n",
       "  <thead>\n",
       "    <tr style=\"text-align: right;\">\n",
       "      <th></th>\n",
       "      <th>model</th>\n",
       "      <th>matthews_corrcoef</th>\n",
       "      <th>roc_auc_score</th>\n",
       "      <th>precision_score</th>\n",
       "      <th>recall_score</th>\n",
       "      <th>f1_score</th>\n",
       "      <th>model_type</th>\n",
       "    </tr>\n",
       "  </thead>\n",
       "  <tbody>\n",
       "    <tr>\n",
       "      <th>0</th>\n",
       "      <td>GradientBoosting</td>\n",
       "      <td>0.001441</td>\n",
       "      <td>0.820998</td>\n",
       "      <td>0.007812</td>\n",
       "      <td>0.001554</td>\n",
       "      <td>0.002592</td>\n",
       "      <td>Non-balanced</td>\n",
       "    </tr>\n",
       "    <tr>\n",
       "      <th>1</th>\n",
       "      <td>LogisticRegression</td>\n",
       "      <td>-0.000222</td>\n",
       "      <td>0.789550</td>\n",
       "      <td>0.000000</td>\n",
       "      <td>0.000000</td>\n",
       "      <td>0.000000</td>\n",
       "      <td>Non-balanced</td>\n",
       "    </tr>\n",
       "    <tr>\n",
       "      <th>2</th>\n",
       "      <td>RandomForestClassifier</td>\n",
       "      <td>0.000000</td>\n",
       "      <td>0.538451</td>\n",
       "      <td>0.000000</td>\n",
       "      <td>0.000000</td>\n",
       "      <td>0.000000</td>\n",
       "      <td>Non-balanced</td>\n",
       "    </tr>\n",
       "  </tbody>\n",
       "</table>\n",
       "</div>"
      ],
      "text/plain": [
       "                    model  matthews_corrcoef  roc_auc_score  precision_score  \\\n",
       "0        GradientBoosting           0.001441       0.820998         0.007812   \n",
       "1      LogisticRegression          -0.000222       0.789550         0.000000   \n",
       "2  RandomForestClassifier           0.000000       0.538451         0.000000   \n",
       "\n",
       "   recall_score  f1_score    model_type  \n",
       "0      0.001554  0.002592  Non-balanced  \n",
       "1      0.000000  0.000000  Non-balanced  \n",
       "2      0.000000  0.000000  Non-balanced  "
      ]
     },
     "execution_count": 10,
     "metadata": {},
     "output_type": "execute_result"
    }
   ],
   "source": [
    "models_report"
   ]
  },
  {
   "cell_type": "code",
   "execution_count": 11,
   "metadata": {},
   "outputs": [
    {
     "data": {
      "text/html": [
       "<div>\n",
       "<style>\n",
       "    .dataframe thead tr:only-child th {\n",
       "        text-align: right;\n",
       "    }\n",
       "\n",
       "    .dataframe thead th {\n",
       "        text-align: left;\n",
       "    }\n",
       "\n",
       "    .dataframe tbody tr th {\n",
       "        vertical-align: top;\n",
       "    }\n",
       "</style>\n",
       "<table border=\"1\" class=\"dataframe\">\n",
       "  <thead>\n",
       "    <tr style=\"text-align: right;\">\n",
       "      <th>Predicted</th>\n",
       "      <th>0.0</th>\n",
       "      <th>1.0</th>\n",
       "    </tr>\n",
       "    <tr>\n",
       "      <th>True</th>\n",
       "      <th></th>\n",
       "      <th></th>\n",
       "    </tr>\n",
       "  </thead>\n",
       "  <tbody>\n",
       "    <tr>\n",
       "      <th>0.0</th>\n",
       "      <td>279096</td>\n",
       "      <td>3</td>\n",
       "    </tr>\n",
       "    <tr>\n",
       "      <th>1.0</th>\n",
       "      <td>1287</td>\n",
       "      <td>0</td>\n",
       "    </tr>\n",
       "  </tbody>\n",
       "</table>\n",
       "</div>"
      ],
      "text/plain": [
       "Predicted     0.0  1.0\n",
       "True                  \n",
       "0.0        279096    3\n",
       "1.0          1287    0"
      ]
     },
     "execution_count": 11,
     "metadata": {},
     "output_type": "execute_result"
    }
   ],
   "source": [
    "conf_matrix['LogisticRegression']"
   ]
  },
  {
   "cell_type": "code",
   "execution_count": 13,
   "metadata": {},
   "outputs": [
    {
     "name": "stdout",
     "output_type": "stream",
     "text": [
      "computing GradientBoosting - Balanced \n",
      "computing LogisticRegression - Balanced \n"
     ]
    },
    {
     "name": "stderr",
     "output_type": "stream",
     "text": [
      "D:\\ProgramData\\Anaconda3\\lib\\site-packages\\sklearn\\metrics\\classification.py:538: RuntimeWarning: overflow encountered in longlong_scalars\n",
      "  mcc = cov_ytyp / np.sqrt(cov_ytyt * cov_ypyp)\n"
     ]
    },
    {
     "name": "stdout",
     "output_type": "stream",
     "text": [
      "computing RandomForestClassifier - Balanced \n"
     ]
    },
    {
     "data": {
      "image/png": "[encoded data removed]",
      "text/plain": [
       "<matplotlib.figure.Figure at 0x1f502061dd8>"
      ]
     },
     "metadata": {},
     "output_type": "display_data"
    }
   ],
   "source": [
    "index_split = int(len(train_df[predictors])/2)\n",
    "X_train, y_train = SMOTE().fit_sample(X_scaled[0:index_split, :], train_df[target][0:index_split])\n",
    "X_test, y_test = X_scaled[index_split:], train_df[target][index_split:]\n",
    "\n",
    "#scores = cross_val_score(clf, X_scaled, y , cv=5, scoring='roc_auc')\n",
    "\n",
    "models_report_bal, conf_matrix_bal = run_models(X_train, y_train, X_test, y_test, model_type = 'Balanced')"
   ]
  },
  {
   "cell_type": "code",
   "execution_count": 14,
   "metadata": {},
   "outputs": [
    {
     "data": {
      "text/html": [
       "<div>\n",
       "<style>\n",
       "    .dataframe thead tr:only-child th {\n",
       "        text-align: right;\n",
       "    }\n",
       "\n",
       "    .dataframe thead th {\n",
       "        text-align: left;\n",
       "    }\n",
       "\n",
       "    .dataframe tbody tr th {\n",
       "        vertical-align: top;\n",
       "    }\n",
       "</style>\n",
       "<table border=\"1\" class=\"dataframe\">\n",
       "  <thead>\n",
       "    <tr style=\"text-align: right;\">\n",
       "      <th></th>\n",
       "      <th>model</th>\n",
       "      <th>matthews_corrcoef</th>\n",
       "      <th>roc_auc_score</th>\n",
       "      <th>precision_score</th>\n",
       "      <th>recall_score</th>\n",
       "      <th>f1_score</th>\n",
       "      <th>model_type</th>\n",
       "    </tr>\n",
       "  </thead>\n",
       "  <tbody>\n",
       "    <tr>\n",
       "      <th>0</th>\n",
       "      <td>GradientBoosting</td>\n",
       "      <td>0.052551</td>\n",
       "      <td>0.794996</td>\n",
       "      <td>0.030808</td>\n",
       "      <td>0.122849</td>\n",
       "      <td>0.049262</td>\n",
       "      <td>Balanced</td>\n",
       "    </tr>\n",
       "    <tr>\n",
       "      <th>1</th>\n",
       "      <td>LogisticRegression</td>\n",
       "      <td>0.394448</td>\n",
       "      <td>0.800115</td>\n",
       "      <td>0.012854</td>\n",
       "      <td>0.727596</td>\n",
       "      <td>0.025262</td>\n",
       "      <td>Balanced</td>\n",
       "    </tr>\n",
       "    <tr>\n",
       "      <th>2</th>\n",
       "      <td>RandomForestClassifier</td>\n",
       "      <td>0.011234</td>\n",
       "      <td>0.632966</td>\n",
       "      <td>0.035398</td>\n",
       "      <td>0.004748</td>\n",
       "      <td>0.008373</td>\n",
       "      <td>Balanced</td>\n",
       "    </tr>\n",
       "  </tbody>\n",
       "</table>\n",
       "</div>"
      ],
      "text/plain": [
       "                    model  matthews_corrcoef  roc_auc_score  precision_score  \\\n",
       "0        GradientBoosting           0.052551       0.794996         0.030808   \n",
       "1      LogisticRegression           0.394448       0.800115         0.012854   \n",
       "2  RandomForestClassifier           0.011234       0.632966         0.035398   \n",
       "\n",
       "   recall_score  f1_score model_type  \n",
       "0      0.122849  0.049262   Balanced  \n",
       "1      0.727596  0.025262   Balanced  \n",
       "2      0.004748  0.008373   Balanced  "
      ]
     },
     "execution_count": 14,
     "metadata": {},
     "output_type": "execute_result"
    }
   ],
   "source": [
    "models_report_bal"
   ]
  },
  {
   "cell_type": "code",
   "execution_count": 15,
   "metadata": {},
   "outputs": [
    {
     "data": {
      "text/html": [
       "<div>\n",
       "<style>\n",
       "    .dataframe thead tr:only-child th {\n",
       "        text-align: right;\n",
       "    }\n",
       "\n",
       "    .dataframe thead th {\n",
       "        text-align: left;\n",
       "    }\n",
       "\n",
       "    .dataframe tbody tr th {\n",
       "        vertical-align: top;\n",
       "    }\n",
       "</style>\n",
       "<table border=\"1\" class=\"dataframe\">\n",
       "  <thead>\n",
       "    <tr style=\"text-align: right;\">\n",
       "      <th>Predicted</th>\n",
       "      <th>0.0</th>\n",
       "      <th>1.0</th>\n",
       "    </tr>\n",
       "    <tr>\n",
       "      <th>True</th>\n",
       "      <th></th>\n",
       "      <th></th>\n",
       "    </tr>\n",
       "  </thead>\n",
       "  <tbody>\n",
       "    <tr>\n",
       "      <th>0.0</th>\n",
       "      <td>254647</td>\n",
       "      <td>94151</td>\n",
       "    </tr>\n",
       "    <tr>\n",
       "      <th>1.0</th>\n",
       "      <td>459</td>\n",
       "      <td>1226</td>\n",
       "    </tr>\n",
       "  </tbody>\n",
       "</table>\n",
       "</div>"
      ],
      "text/plain": [
       "Predicted     0.0    1.0\n",
       "True                    \n",
       "0.0        254647  94151\n",
       "1.0           459   1226"
      ]
     },
     "execution_count": 15,
     "metadata": {},
     "output_type": "execute_result"
    }
   ],
   "source": [
    "conf_matrix_bal['LogisticRegression']"
   ]
  },
  {
   "cell_type": "code",
   "execution_count": null,
   "metadata": {
    "collapsed": true
   },
   "outputs": [],
   "source": []
  }
 ],
 "metadata": {
  "kernelspec": {
   "display_name": "Python 3",
   "language": "python",
   "name": "python3"
  },
  "language_info": {
   "codemirror_mode": {
    "name": "ipython",
    "version": 3
   },
   "file_extension": ".py",
   "mimetype": "text/x-python",
   "name": "python",
   "nbconvert_exporter": "python",
   "pygments_lexer": "ipython3",
   "version": "3.6.2"
  }
 },
 "nbformat": 4,
 "nbformat_minor": 2
}
