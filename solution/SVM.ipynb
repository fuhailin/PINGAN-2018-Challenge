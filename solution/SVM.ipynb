{
 "cells": [
  {
   "cell_type": "code",
   "execution_count": 1,
   "metadata": {
    "collapsed": true
   },
   "outputs": [],
   "source": [
    "import matplotlib.pyplot as plt\n",
    "import pandas as pd\n",
    "# Bring in evaluator\n",
    "from sklearn import metrics\n",
    "from sklearn.model_selection import cross_val_score, train_test_split\n",
    "from sklearn.svm import SVC\n",
    "# Flatten Data\n",
    "from sklearn.preprocessing import StandardScaler, RobustScaler\n",
    "\n",
    "%matplotlib inline"
   ]
  },
  {
   "cell_type": "code",
   "execution_count": 2,
   "metadata": {},
   "outputs": [
    {
     "data": {
      "text/plain": [
       "0.0    697707\n",
       "1.0      3258\n",
       "Name: acc_now_delinq, dtype: int64"
      ]
     },
     "execution_count": 2,
     "metadata": {},
     "output_type": "execute_result"
    }
   ],
   "source": [
    "train_df = pd.read_csv('../dump/train_modified.csv')\n",
    "test_df = pd.read_csv('../dump/test_modified.csv')\n",
    "target='acc_now_delinq'\n",
    "IDcol = 'member_id'\n",
    "predictors = [x for x in train_df.columns if x not in [target,IDcol]]\n",
    "train_df[target].value_counts()"
   ]
  },
  {
   "cell_type": "code",
   "execution_count": 3,
   "metadata": {
    "collapsed": true
   },
   "outputs": [],
   "source": [
    "# Split Train/Test data\n",
    "X_train, X_test, y_train, y_test = train_test_split (train_df[predictors], train_df[target], test_size=0.2, random_state=44)"
   ]
  },
  {
   "cell_type": "code",
   "execution_count": 4,
   "metadata": {
    "collapsed": true
   },
   "outputs": [],
   "source": [
    "# Weighted prediction feature\n",
    "y_0 = len(y_train[y_train == 0])/len(y_train)\n",
    "y_1 = 1 - y_0"
   ]
  },
  {
   "cell_type": "code",
   "execution_count": 5,
   "metadata": {},
   "outputs": [],
   "source": [
    "#std_scaler = StandardScaler()\n",
    "rob_scaler = RobustScaler()\n",
    "\n",
    "#X_train_S = std_scaler.fit_transform(X_train)\n",
    "#X_test_S = std_scaler.transform(X_test)\n",
    "\n",
    "# Use robust scaler to reduce outliers\n",
    "X_train_R = rob_scaler.fit_transform(X_train)\n",
    "X_test_R = rob_scaler.transform(X_test)"
   ]
  },
  {
   "cell_type": "code",
   "execution_count": null,
   "metadata": {
    "collapsed": true
   },
   "outputs": [],
   "source": [
    "svm_clf = SVC(class_weight={0:y_1, 1:y_0})\n",
    "svm_clf.fit(X_train_R, y_train)\n",
    "\n",
    "svm_predictions = svm_clf.predict(X_test_R) # Save prediction\n",
    "\n",
    "\n",
    "#print(svm_clf.score(X_test_R, y_test))\n",
    "scores = cross_val_score(svm_clf, X_test_R, y_test, cv=5)\n",
    "print(scores)\n",
    "print(\"Accuracy: %0.2f (+/- %0.2f)\\n\" % (scores.mean(), scores.std() * 2))\n",
    "\n",
    "print(mt.classification_report(y_test, svm_predictions))\n",
    "print(mt.confusion_matrix(y_test, svm_predictions))"
   ]
  },
  {
   "cell_type": "code",
   "execution_count": null,
   "metadata": {
    "collapsed": true
   },
   "outputs": [],
   "source": []
  }
 ],
 "metadata": {
  "kernelspec": {
   "display_name": "Python 3",
   "language": "python",
   "name": "python3"
  },
  "language_info": {
   "codemirror_mode": {
    "name": "ipython",
    "version": 3
   },
   "file_extension": ".py",
   "mimetype": "text/x-python",
   "name": "python",
   "nbconvert_exporter": "python",
   "pygments_lexer": "ipython3",
   "version": "3.6.2"
  }
 },
 "nbformat": 4,
 "nbformat_minor": 2
}
