{
 "cells": [
  {
   "cell_type": "code",
   "execution_count": 50,
   "metadata": {
    "collapsed": true
   },
   "outputs": [],
   "source": [
    "import pandas as pd\n",
    "import numpy as np\n",
    "import matplotlib.pyplot as plt\n",
    "import seaborn as sns\n",
    "pd.set_option('display.max_rows', 100)\n",
    "import missingno as msno\n",
    "import re\n",
    "from sklearn.preprocessing import LabelEncoder\n",
    "import pickle\n",
    "%matplotlib inline\n",
    "pd.set_option('max_columns', 120)\n",
    "pd.set_option('max_colwidth', 5000)"
   ]
  },
  {
   "cell_type": "code",
   "execution_count": 51,
   "metadata": {},
   "outputs": [
    {
     "name": "stderr",
     "output_type": "stream",
     "text": [
      "D:\\ProgramData\\Anaconda3\\lib\\site-packages\\IPython\\core\\interactiveshell.py:2698: DtypeWarning: Columns (45) have mixed types. Specify dtype option on import or set low_memory=False.\n",
      "  interactivity=interactivity, compiler=compiler, result=result)\n"
     ]
    }
   ],
   "source": [
    "train_df = pd.read_csv(\"../input/train.csv\")\n",
    "test_df = pd.read_csv(\"../input/test.csv\")"
   ]
  },
  {
   "cell_type": "code",
   "execution_count": null,
   "metadata": {
    "collapsed": true
   },
   "outputs": [],
   "source": [
    "data_dictionary = pd.read_excel('../input/DataDictionary.xlsx',header=None, names = [\"feature_name\", \"description\"]) # Loading in the data dictionary"
   ]
  },
  {
   "cell_type": "code",
   "execution_count": null,
   "metadata": {
    "collapsed": true
   },
   "outputs": [],
   "source": [
    "train_df_dtypes = pd.DataFrame(train_df.dtypes,columns=['dtypes'])\n",
    "train_df_dtypes = train_df_dtypes.reset_index()\n",
    "train_df_dtypes['feature_name'] = train_df_dtypes['index']\n",
    "train_df_dtypes = train_df_dtypes[['feature_name','dtypes']]\n",
    "\n",
    "train_df_dtypes['first value'] = train_df.loc[0].values\n",
    "preview = train_df_dtypes.merge(data_dictionary, on='feature_name',how='left')"
   ]
  },
  {
   "cell_type": "code",
   "execution_count": null,
   "metadata": {
    "collapsed": true
   },
   "outputs": [],
   "source": [
    "preview.head()"
   ]
  },
  {
   "cell_type": "code",
   "execution_count": null,
   "metadata": {
    "collapsed": true
   },
   "outputs": [],
   "source": [
    "preview[:19]"
   ]
  },
  {
   "cell_type": "code",
   "execution_count": null,
   "metadata": {
    "collapsed": true
   },
   "outputs": [],
   "source": [
    "preview[19:39]"
   ]
  },
  {
   "cell_type": "code",
   "execution_count": null,
   "metadata": {
    "collapsed": true
   },
   "outputs": [],
   "source": [
    "preview[39:]"
   ]
  },
  {
   "cell_type": "code",
   "execution_count": 52,
   "metadata": {
    "collapsed": true
   },
   "outputs": [],
   "source": [
    "def meta (dataframe):\n",
    "    metadata = []\n",
    "    for f in dataframe.columns:\n",
    "    \n",
    "        # Counting null values\n",
    "        null = dataframe[f].isnull().sum()\n",
    "    \n",
    "        # Defining the data type \n",
    "        dtype = dataframe[f].dtype\n",
    "    \n",
    "        # Creating a Dict that contains all the metadata for the variable\n",
    "        f_dict = {\n",
    "            'varname': f,\n",
    "            'nulls':null,\n",
    "            'dtype': dtype\n",
    "        }\n",
    "        metadata.append(f_dict)\n",
    "\n",
    "    meta = pd.DataFrame(metadata, columns=['varname','nulls', 'dtype'])\n",
    "    meta.set_index('varname', inplace=True)\n",
    "    meta=meta.sort_values(by=['nulls'],ascending=False)\n",
    "    return meta"
   ]
  },
  {
   "cell_type": "code",
   "execution_count": 53,
   "metadata": {},
   "outputs": [
    {
     "name": "stdout",
     "output_type": "stream",
     "text": [
      "(709903, 65) (177476, 64) (887379, 65)\n"
     ]
    }
   ],
   "source": [
    "#Combine into data:\n",
    "train_df['source']= 'train'\n",
    "test_df['source'] = 'test'\n",
    "dataset=pd.concat([train_df,test_df],ignore_index=True)\n",
    "print(train_df.shape, test_df.shape, dataset.shape)"
   ]
  },
  {
   "cell_type": "code",
   "execution_count": 54,
   "metadata": {
    "collapsed": true
   },
   "outputs": [],
   "source": [
    "dataset['annual_inc'] = dataset['annual_inc'].fillna(dataset['annual_inc'].median())"
   ]
  },
  {
   "cell_type": "code",
   "execution_count": 55,
   "metadata": {
    "collapsed": true
   },
   "outputs": [],
   "source": [
    "# Variables: dti_joint, annual_inc_joint and verification_status_joint have so many null\n",
    "# values as there are only 510 joint loans. Will replace NaN with 0 and 'None' for status.\n",
    "\n",
    "dataset.dti_joint=dataset.dti_joint.replace(np.nan,0)\n",
    "dataset.annual_inc_joint=dataset.annual_inc_joint.replace(np.nan,0)\n",
    "dataset.verification_status_joint=dataset.verification_status_joint.replace(np.nan,'None')"
   ]
  },
  {
   "cell_type": "code",
   "execution_count": 56,
   "metadata": {
    "collapsed": true
   },
   "outputs": [],
   "source": [
    "variables1=['open_acc_6m', 'open_il_6m', 'open_il_12m', 'open_il_24m', 'mths_since_rcnt_il', 'total_bal_il', 'il_util', 'open_rv_12m', 'open_rv_24m', 'max_bal_bc', 'all_util', 'inq_fi', 'total_cu_tl', 'inq_last_12m','collections_12_mths_ex_med']\n",
    "\n",
    "for e in variables1:\n",
    "    dataset[e]=dataset[e].replace(np.nan,0)"
   ]
  },
  {
   "cell_type": "markdown",
   "metadata": {},
   "source": [
    "Null values in these columns can't be replaced with 0 as it would mean that the last occurence was very recent. My understanding of these variables is that the key information is whether the specific action took place (delinquency, public record, worse rating), so I will turn these into binary categories of Yes (1), No (0)."
   ]
  },
  {
   "cell_type": "code",
   "execution_count": 57,
   "metadata": {
    "collapsed": true
   },
   "outputs": [],
   "source": [
    "dataset.loc[(dataset.mths_since_last_major_derog.notnull()),'derog']=1\n",
    "dataset.loc[(dataset.mths_since_last_major_derog.isnull()),'derog']=0\n",
    "\n",
    "dataset.loc[(dataset.mths_since_last_record.notnull()),'public_record']=1\n",
    "dataset.loc[(dataset.mths_since_last_record.isnull()),'public_record']=0\n",
    "\n",
    "dataset.drop(['mths_since_last_major_derog','mths_since_last_record'],axis=1,inplace=True)"
   ]
  },
  {
   "cell_type": "markdown",
   "metadata": {},
   "source": [
    "Investigating variables connected to open_acc_6m which shows number of open trades in last 6 months. Variables open_il_6m, open_il_12m, open_il_24m, mths_since_rcnt_il, total_bal_il, il_util, open_rv_12m, open_rv_24m, max_bal_bc, all_util, inq_fi, total_cu_tl, inq_last_12m, collections_12_mths_ex_med have null values for the same rows - I will change them all to 0 as missing vaules show lack of open trades."
   ]
  },
  {
   "cell_type": "markdown",
   "metadata": {},
   "source": [
    "Investigating tot_coll_amt, tot_cur_bal, total_rev_hi_lim - these are three totals that have missing values for the same observations. I will change them to 0 as they should mean that the total is 0."
   ]
  },
  {
   "cell_type": "code",
   "execution_count": 58,
   "metadata": {
    "collapsed": true
   },
   "outputs": [],
   "source": [
    "variables2=['tot_coll_amt', 'tot_cur_bal', 'total_rev_hi_lim']\n",
    "\n",
    "for e in variables2:\n",
    "    dataset[e]=dataset[e].replace(np.nan,0)"
   ]
  },
  {
   "cell_type": "code",
   "execution_count": 59,
   "metadata": {
    "collapsed": true
   },
   "outputs": [],
   "source": [
    "dataset.revol_util=dataset.revol_util.replace(np.nan,0)"
   ]
  },
  {
   "cell_type": "code",
   "execution_count": 60,
   "metadata": {},
   "outputs": [
    {
     "data": {
      "text/plain": [
       "'Aug-2001'"
      ]
     },
     "execution_count": 60,
     "metadata": {},
     "output_type": "execute_result"
    }
   ],
   "source": [
    "dataset['earliest_cr_line'].mode()[0]"
   ]
  },
  {
   "cell_type": "markdown",
   "metadata": {},
   "source": [
    "There are seven variables with 3 missing values, this is such a small number that I will just replace NaN with most common values."
   ]
  },
  {
   "cell_type": "code",
   "execution_count": 61,
   "metadata": {
    "collapsed": true
   },
   "outputs": [],
   "source": [
    "variables3=['total_acc','pub_rec','earliest_cr_line']\n",
    "\n",
    "for e in variables3:\n",
    "    dataset[e]=dataset[e].replace(np.nan,dataset[e].mode()[0])"
   ]
  },
  {
   "cell_type": "code",
   "execution_count": 62,
   "metadata": {},
   "outputs": [
    {
     "data": {
      "text/html": [
       "<div>\n",
       "<style>\n",
       "    .dataframe thead tr:only-child th {\n",
       "        text-align: right;\n",
       "    }\n",
       "\n",
       "    .dataframe thead th {\n",
       "        text-align: left;\n",
       "    }\n",
       "\n",
       "    .dataframe tbody tr th {\n",
       "        vertical-align: top;\n",
       "    }\n",
       "</style>\n",
       "<table border=\"1\" class=\"dataframe\">\n",
       "  <thead>\n",
       "    <tr style=\"text-align: right;\">\n",
       "      <th></th>\n",
       "      <th>pymnt_plan</th>\n",
       "    </tr>\n",
       "  </thead>\n",
       "  <tbody>\n",
       "    <tr>\n",
       "      <th>n</th>\n",
       "      <td>177473</td>\n",
       "    </tr>\n",
       "    <tr>\n",
       "      <th>y</th>\n",
       "      <td>3</td>\n",
       "    </tr>\n",
       "  </tbody>\n",
       "</table>\n",
       "</div>"
      ],
      "text/plain": [
       "   pymnt_plan\n",
       "n      177473\n",
       "y           3"
      ]
     },
     "execution_count": 62,
     "metadata": {},
     "output_type": "execute_result"
    }
   ],
   "source": [
    "pd.value_counts(dataset.loc[dataset['source']=='test'].pymnt_plan).to_frame()"
   ]
  },
  {
   "cell_type": "code",
   "execution_count": 63,
   "metadata": {},
   "outputs": [
    {
     "data": {
      "text/html": [
       "<div>\n",
       "<style>\n",
       "    .dataframe thead tr:only-child th {\n",
       "        text-align: right;\n",
       "    }\n",
       "\n",
       "    .dataframe thead th {\n",
       "        text-align: left;\n",
       "    }\n",
       "\n",
       "    .dataframe tbody tr th {\n",
       "        vertical-align: top;\n",
       "    }\n",
       "</style>\n",
       "<table border=\"1\" class=\"dataframe\">\n",
       "  <thead>\n",
       "    <tr style=\"text-align: right;\">\n",
       "      <th></th>\n",
       "      <th>verification_status</th>\n",
       "    </tr>\n",
       "  </thead>\n",
       "  <tbody>\n",
       "    <tr>\n",
       "      <th>Source Verified</th>\n",
       "      <td>329558</td>\n",
       "    </tr>\n",
       "    <tr>\n",
       "      <th>Verified</th>\n",
       "      <td>291071</td>\n",
       "    </tr>\n",
       "    <tr>\n",
       "      <th>Not Verified</th>\n",
       "      <td>266750</td>\n",
       "    </tr>\n",
       "  </tbody>\n",
       "</table>\n",
       "</div>"
      ],
      "text/plain": [
       "                 verification_status\n",
       "Source Verified               329558\n",
       "Verified                      291071\n",
       "Not Verified                  266750"
      ]
     },
     "execution_count": 63,
     "metadata": {},
     "output_type": "execute_result"
    }
   ],
   "source": [
    "pd.value_counts(dataset.verification_status).to_frame()"
   ]
  },
  {
   "cell_type": "code",
   "execution_count": 16,
   "metadata": {},
   "outputs": [
    {
     "data": {
      "text/html": [
       "<div>\n",
       "<style>\n",
       "    .dataframe thead tr:only-child th {\n",
       "        text-align: right;\n",
       "    }\n",
       "\n",
       "    .dataframe thead th {\n",
       "        text-align: left;\n",
       "    }\n",
       "\n",
       "    .dataframe tbody tr th {\n",
       "        vertical-align: top;\n",
       "    }\n",
       "</style>\n",
       "<table border=\"1\" class=\"dataframe\">\n",
       "  <thead>\n",
       "    <tr style=\"text-align: right;\">\n",
       "      <th></th>\n",
       "      <th>verification_status_joint</th>\n",
       "    </tr>\n",
       "  </thead>\n",
       "  <tbody>\n",
       "    <tr>\n",
       "      <th>None</th>\n",
       "      <td>886868</td>\n",
       "    </tr>\n",
       "    <tr>\n",
       "      <th>Not Verified</th>\n",
       "      <td>283</td>\n",
       "    </tr>\n",
       "    <tr>\n",
       "      <th>Verified</th>\n",
       "      <td>167</td>\n",
       "    </tr>\n",
       "    <tr>\n",
       "      <th>Source Verified</th>\n",
       "      <td>61</td>\n",
       "    </tr>\n",
       "  </tbody>\n",
       "</table>\n",
       "</div>"
      ],
      "text/plain": [
       "                 verification_status_joint\n",
       "None                                886868\n",
       "Not Verified                           283\n",
       "Verified                               167\n",
       "Source Verified                         61"
      ]
     },
     "execution_count": 16,
     "metadata": {},
     "output_type": "execute_result"
    }
   ],
   "source": [
    "pd.value_counts(dataset.verification_status_joint).to_frame()"
   ]
  },
  {
   "cell_type": "code",
   "execution_count": 17,
   "metadata": {},
   "outputs": [
    {
     "data": {
      "text/html": [
       "<div>\n",
       "<style>\n",
       "    .dataframe thead tr:only-child th {\n",
       "        text-align: right;\n",
       "    }\n",
       "\n",
       "    .dataframe thead th {\n",
       "        text-align: left;\n",
       "    }\n",
       "\n",
       "    .dataframe tbody tr th {\n",
       "        vertical-align: top;\n",
       "    }\n",
       "</style>\n",
       "<table border=\"1\" class=\"dataframe\">\n",
       "  <thead>\n",
       "    <tr style=\"text-align: right;\">\n",
       "      <th></th>\n",
       "      <th>application_type</th>\n",
       "    </tr>\n",
       "  </thead>\n",
       "  <tbody>\n",
       "    <tr>\n",
       "      <th>INDIVIDUAL</th>\n",
       "      <td>886868</td>\n",
       "    </tr>\n",
       "    <tr>\n",
       "      <th>JOINT</th>\n",
       "      <td>511</td>\n",
       "    </tr>\n",
       "  </tbody>\n",
       "</table>\n",
       "</div>"
      ],
      "text/plain": [
       "            application_type\n",
       "INDIVIDUAL            886868\n",
       "JOINT                    511"
      ]
     },
     "execution_count": 17,
     "metadata": {},
     "output_type": "execute_result"
    }
   ],
   "source": [
    "pd.value_counts(dataset.application_type).to_frame()"
   ]
  },
  {
   "cell_type": "code",
   "execution_count": 64,
   "metadata": {},
   "outputs": [
    {
     "data": {
      "text/html": [
       "<div>\n",
       "<style>\n",
       "    .dataframe thead tr:only-child th {\n",
       "        text-align: right;\n",
       "    }\n",
       "\n",
       "    .dataframe thead th {\n",
       "        text-align: left;\n",
       "    }\n",
       "\n",
       "    .dataframe tbody tr th {\n",
       "        vertical-align: top;\n",
       "    }\n",
       "</style>\n",
       "<table border=\"1\" class=\"dataframe\">\n",
       "  <thead>\n",
       "    <tr style=\"text-align: right;\">\n",
       "      <th></th>\n",
       "      <th>loan_status</th>\n",
       "    </tr>\n",
       "  </thead>\n",
       "  <tbody>\n",
       "    <tr>\n",
       "      <th>Current</th>\n",
       "      <td>601779</td>\n",
       "    </tr>\n",
       "    <tr>\n",
       "      <th>Fully Paid</th>\n",
       "      <td>207723</td>\n",
       "    </tr>\n",
       "    <tr>\n",
       "      <th>Charged Off</th>\n",
       "      <td>45248</td>\n",
       "    </tr>\n",
       "    <tr>\n",
       "      <th>Late (31-120 days)</th>\n",
       "      <td>11591</td>\n",
       "    </tr>\n",
       "    <tr>\n",
       "      <th>Issued</th>\n",
       "      <td>8460</td>\n",
       "    </tr>\n",
       "    <tr>\n",
       "      <th>In Grace Period</th>\n",
       "      <td>6253</td>\n",
       "    </tr>\n",
       "    <tr>\n",
       "      <th>Late (16-30 days)</th>\n",
       "      <td>2357</td>\n",
       "    </tr>\n",
       "    <tr>\n",
       "      <th>Does not meet the credit policy. Status:Fully Paid</th>\n",
       "      <td>1988</td>\n",
       "    </tr>\n",
       "    <tr>\n",
       "      <th>Default</th>\n",
       "      <td>1219</td>\n",
       "    </tr>\n",
       "    <tr>\n",
       "      <th>Does not meet the credit policy. Status:Charged Off</th>\n",
       "      <td>761</td>\n",
       "    </tr>\n",
       "  </tbody>\n",
       "</table>\n",
       "</div>"
      ],
      "text/plain": [
       "                                                     loan_status\n",
       "Current                                                   601779\n",
       "Fully Paid                                                207723\n",
       "Charged Off                                                45248\n",
       "Late (31-120 days)                                         11591\n",
       "Issued                                                      8460\n",
       "In Grace Period                                             6253\n",
       "Late (16-30 days)                                           2357\n",
       "Does not meet the credit policy. Status:Fully Paid          1988\n",
       "Default                                                     1219\n",
       "Does not meet the credit policy. Status:Charged Off          761"
      ]
     },
     "execution_count": 64,
     "metadata": {},
     "output_type": "execute_result"
    }
   ],
   "source": [
    "pd.value_counts(dataset.loan_status).to_frame()"
   ]
  },
  {
   "cell_type": "code",
   "execution_count": 22,
   "metadata": {},
   "outputs": [
    {
     "data": {
      "text/html": [
       "<div>\n",
       "<style>\n",
       "    .dataframe thead tr:only-child th {\n",
       "        text-align: right;\n",
       "    }\n",
       "\n",
       "    .dataframe thead th {\n",
       "        text-align: left;\n",
       "    }\n",
       "\n",
       "    .dataframe tbody tr th {\n",
       "        vertical-align: top;\n",
       "    }\n",
       "</style>\n",
       "<table border=\"1\" class=\"dataframe\">\n",
       "  <thead>\n",
       "    <tr style=\"text-align: right;\">\n",
       "      <th></th>\n",
       "      <th>nulls</th>\n",
       "      <th>dtype</th>\n",
       "    </tr>\n",
       "    <tr>\n",
       "      <th>varname</th>\n",
       "      <th></th>\n",
       "      <th></th>\n",
       "    </tr>\n",
       "  </thead>\n",
       "  <tbody>\n",
       "    <tr>\n",
       "      <th>desc</th>\n",
       "      <td>752565</td>\n",
       "      <td>object</td>\n",
       "    </tr>\n",
       "    <tr>\n",
       "      <th>acc_now_delinq</th>\n",
       "      <td>175205</td>\n",
       "      <td>float64</td>\n",
       "    </tr>\n",
       "    <tr>\n",
       "      <th>emp_title</th>\n",
       "      <td>50662</td>\n",
       "      <td>object</td>\n",
       "    </tr>\n",
       "    <tr>\n",
       "      <th>title</th>\n",
       "      <td>32</td>\n",
       "      <td>object</td>\n",
       "    </tr>\n",
       "    <tr>\n",
       "      <th>revol_bal</th>\n",
       "      <td>0</td>\n",
       "      <td>float64</td>\n",
       "    </tr>\n",
       "    <tr>\n",
       "      <th>term</th>\n",
       "      <td>0</td>\n",
       "      <td>object</td>\n",
       "    </tr>\n",
       "    <tr>\n",
       "      <th>sub_grade</th>\n",
       "      <td>0</td>\n",
       "      <td>object</td>\n",
       "    </tr>\n",
       "    <tr>\n",
       "      <th>source</th>\n",
       "      <td>0</td>\n",
       "      <td>object</td>\n",
       "    </tr>\n",
       "    <tr>\n",
       "      <th>revol_util</th>\n",
       "      <td>0</td>\n",
       "      <td>float64</td>\n",
       "    </tr>\n",
       "    <tr>\n",
       "      <th>recoveries</th>\n",
       "      <td>0</td>\n",
       "      <td>float64</td>\n",
       "    </tr>\n",
       "    <tr>\n",
       "      <th>tot_cur_bal</th>\n",
       "      <td>0</td>\n",
       "      <td>float64</td>\n",
       "    </tr>\n",
       "    <tr>\n",
       "      <th>pymnt_plan</th>\n",
       "      <td>0</td>\n",
       "      <td>object</td>\n",
       "    </tr>\n",
       "    <tr>\n",
       "      <th>purpose</th>\n",
       "      <td>0</td>\n",
       "      <td>object</td>\n",
       "    </tr>\n",
       "    <tr>\n",
       "      <th>pub_rec</th>\n",
       "      <td>0</td>\n",
       "      <td>float64</td>\n",
       "    </tr>\n",
       "    <tr>\n",
       "      <th>policy_code</th>\n",
       "      <td>0</td>\n",
       "      <td>float64</td>\n",
       "    </tr>\n",
       "    <tr>\n",
       "      <th>out_prncp_inv</th>\n",
       "      <td>0</td>\n",
       "      <td>float64</td>\n",
       "    </tr>\n",
       "    <tr>\n",
       "      <th>out_prncp</th>\n",
       "      <td>0</td>\n",
       "      <td>float64</td>\n",
       "    </tr>\n",
       "    <tr>\n",
       "      <th>tot_coll_amt</th>\n",
       "      <td>0</td>\n",
       "      <td>float64</td>\n",
       "    </tr>\n",
       "    <tr>\n",
       "      <th>total_acc</th>\n",
       "      <td>0</td>\n",
       "      <td>float64</td>\n",
       "    </tr>\n",
       "    <tr>\n",
       "      <th>open_rv_12m</th>\n",
       "      <td>0</td>\n",
       "      <td>float64</td>\n",
       "    </tr>\n",
       "    <tr>\n",
       "      <th>total_bal_il</th>\n",
       "      <td>0</td>\n",
       "      <td>float64</td>\n",
       "    </tr>\n",
       "    <tr>\n",
       "      <th>total_cu_tl</th>\n",
       "      <td>0</td>\n",
       "      <td>float64</td>\n",
       "    </tr>\n",
       "    <tr>\n",
       "      <th>total_pymnt</th>\n",
       "      <td>0</td>\n",
       "      <td>float64</td>\n",
       "    </tr>\n",
       "    <tr>\n",
       "      <th>total_pymnt_inv</th>\n",
       "      <td>0</td>\n",
       "      <td>float64</td>\n",
       "    </tr>\n",
       "    <tr>\n",
       "      <th>total_rec_int</th>\n",
       "      <td>0</td>\n",
       "      <td>float64</td>\n",
       "    </tr>\n",
       "    <tr>\n",
       "      <th>total_rec_late_fee</th>\n",
       "      <td>0</td>\n",
       "      <td>float64</td>\n",
       "    </tr>\n",
       "    <tr>\n",
       "      <th>total_rec_prncp</th>\n",
       "      <td>0</td>\n",
       "      <td>float64</td>\n",
       "    </tr>\n",
       "    <tr>\n",
       "      <th>total_rev_hi_lim</th>\n",
       "      <td>0</td>\n",
       "      <td>float64</td>\n",
       "    </tr>\n",
       "    <tr>\n",
       "      <th>verification_status</th>\n",
       "      <td>0</td>\n",
       "      <td>object</td>\n",
       "    </tr>\n",
       "    <tr>\n",
       "      <th>verification_status_joint</th>\n",
       "      <td>0</td>\n",
       "      <td>object</td>\n",
       "    </tr>\n",
       "    <tr>\n",
       "      <th>zip_code</th>\n",
       "      <td>0</td>\n",
       "      <td>object</td>\n",
       "    </tr>\n",
       "    <tr>\n",
       "      <th>derog</th>\n",
       "      <td>0</td>\n",
       "      <td>float64</td>\n",
       "    </tr>\n",
       "    <tr>\n",
       "      <th>public_record</th>\n",
       "      <td>0</td>\n",
       "      <td>float64</td>\n",
       "    </tr>\n",
       "    <tr>\n",
       "      <th>open_rv_24m</th>\n",
       "      <td>0</td>\n",
       "      <td>float64</td>\n",
       "    </tr>\n",
       "    <tr>\n",
       "      <th>open_il_6m</th>\n",
       "      <td>0</td>\n",
       "      <td>float64</td>\n",
       "    </tr>\n",
       "    <tr>\n",
       "      <th>addr_state</th>\n",
       "      <td>0</td>\n",
       "      <td>object</td>\n",
       "    </tr>\n",
       "    <tr>\n",
       "      <th>home_ownership</th>\n",
       "      <td>0</td>\n",
       "      <td>object</td>\n",
       "    </tr>\n",
       "    <tr>\n",
       "      <th>all_util</th>\n",
       "      <td>0</td>\n",
       "      <td>float64</td>\n",
       "    </tr>\n",
       "    <tr>\n",
       "      <th>annual_inc</th>\n",
       "      <td>0</td>\n",
       "      <td>float64</td>\n",
       "    </tr>\n",
       "    <tr>\n",
       "      <th>annual_inc_joint</th>\n",
       "      <td>0</td>\n",
       "      <td>float64</td>\n",
       "    </tr>\n",
       "    <tr>\n",
       "      <th>application_type</th>\n",
       "      <td>0</td>\n",
       "      <td>object</td>\n",
       "    </tr>\n",
       "    <tr>\n",
       "      <th>collection_recovery_fee</th>\n",
       "      <td>0</td>\n",
       "      <td>float64</td>\n",
       "    </tr>\n",
       "    <tr>\n",
       "      <th>collections_12_mths_ex_med</th>\n",
       "      <td>0</td>\n",
       "      <td>float64</td>\n",
       "    </tr>\n",
       "    <tr>\n",
       "      <th>dti</th>\n",
       "      <td>0</td>\n",
       "      <td>float64</td>\n",
       "    </tr>\n",
       "    <tr>\n",
       "      <th>dti_joint</th>\n",
       "      <td>0</td>\n",
       "      <td>float64</td>\n",
       "    </tr>\n",
       "    <tr>\n",
       "      <th>earliest_cr_line</th>\n",
       "      <td>0</td>\n",
       "      <td>object</td>\n",
       "    </tr>\n",
       "    <tr>\n",
       "      <th>emp_length</th>\n",
       "      <td>0</td>\n",
       "      <td>object</td>\n",
       "    </tr>\n",
       "    <tr>\n",
       "      <th>funded_amnt</th>\n",
       "      <td>0</td>\n",
       "      <td>float64</td>\n",
       "    </tr>\n",
       "    <tr>\n",
       "      <th>funded_amnt_inv</th>\n",
       "      <td>0</td>\n",
       "      <td>float64</td>\n",
       "    </tr>\n",
       "    <tr>\n",
       "      <th>grade</th>\n",
       "      <td>0</td>\n",
       "      <td>object</td>\n",
       "    </tr>\n",
       "    <tr>\n",
       "      <th>il_util</th>\n",
       "      <td>0</td>\n",
       "      <td>float64</td>\n",
       "    </tr>\n",
       "    <tr>\n",
       "      <th>open_il_24m</th>\n",
       "      <td>0</td>\n",
       "      <td>float64</td>\n",
       "    </tr>\n",
       "    <tr>\n",
       "      <th>initial_list_status</th>\n",
       "      <td>0</td>\n",
       "      <td>object</td>\n",
       "    </tr>\n",
       "    <tr>\n",
       "      <th>inq_fi</th>\n",
       "      <td>0</td>\n",
       "      <td>float64</td>\n",
       "    </tr>\n",
       "    <tr>\n",
       "      <th>inq_last_12m</th>\n",
       "      <td>0</td>\n",
       "      <td>float64</td>\n",
       "    </tr>\n",
       "    <tr>\n",
       "      <th>installment</th>\n",
       "      <td>0</td>\n",
       "      <td>float64</td>\n",
       "    </tr>\n",
       "    <tr>\n",
       "      <th>int_rate</th>\n",
       "      <td>0</td>\n",
       "      <td>float64</td>\n",
       "    </tr>\n",
       "    <tr>\n",
       "      <th>issue_d</th>\n",
       "      <td>0</td>\n",
       "      <td>object</td>\n",
       "    </tr>\n",
       "    <tr>\n",
       "      <th>loan_amnt</th>\n",
       "      <td>0</td>\n",
       "      <td>float64</td>\n",
       "    </tr>\n",
       "    <tr>\n",
       "      <th>loan_status</th>\n",
       "      <td>0</td>\n",
       "      <td>object</td>\n",
       "    </tr>\n",
       "    <tr>\n",
       "      <th>max_bal_bc</th>\n",
       "      <td>0</td>\n",
       "      <td>float64</td>\n",
       "    </tr>\n",
       "    <tr>\n",
       "      <th>member_id</th>\n",
       "      <td>0</td>\n",
       "      <td>int64</td>\n",
       "    </tr>\n",
       "    <tr>\n",
       "      <th>mths_since_rcnt_il</th>\n",
       "      <td>0</td>\n",
       "      <td>float64</td>\n",
       "    </tr>\n",
       "    <tr>\n",
       "      <th>open_acc_6m</th>\n",
       "      <td>0</td>\n",
       "      <td>float64</td>\n",
       "    </tr>\n",
       "    <tr>\n",
       "      <th>open_il_12m</th>\n",
       "      <td>0</td>\n",
       "      <td>float64</td>\n",
       "    </tr>\n",
       "    <tr>\n",
       "      <th>Default</th>\n",
       "      <td>0</td>\n",
       "      <td>int64</td>\n",
       "    </tr>\n",
       "  </tbody>\n",
       "</table>\n",
       "</div>"
      ],
      "text/plain": [
       "                             nulls    dtype\n",
       "varname                                    \n",
       "desc                        752565   object\n",
       "acc_now_delinq              175205  float64\n",
       "emp_title                    50662   object\n",
       "title                           32   object\n",
       "revol_bal                        0  float64\n",
       "term                             0   object\n",
       "sub_grade                        0   object\n",
       "source                           0   object\n",
       "revol_util                       0  float64\n",
       "recoveries                       0  float64\n",
       "tot_cur_bal                      0  float64\n",
       "pymnt_plan                       0   object\n",
       "purpose                          0   object\n",
       "pub_rec                          0  float64\n",
       "policy_code                      0  float64\n",
       "out_prncp_inv                    0  float64\n",
       "out_prncp                        0  float64\n",
       "tot_coll_amt                     0  float64\n",
       "total_acc                        0  float64\n",
       "open_rv_12m                      0  float64\n",
       "total_bal_il                     0  float64\n",
       "total_cu_tl                      0  float64\n",
       "total_pymnt                      0  float64\n",
       "total_pymnt_inv                  0  float64\n",
       "total_rec_int                    0  float64\n",
       "total_rec_late_fee               0  float64\n",
       "total_rec_prncp                  0  float64\n",
       "total_rev_hi_lim                 0  float64\n",
       "verification_status              0   object\n",
       "verification_status_joint        0   object\n",
       "zip_code                         0   object\n",
       "derog                            0  float64\n",
       "public_record                    0  float64\n",
       "open_rv_24m                      0  float64\n",
       "open_il_6m                       0  float64\n",
       "addr_state                       0   object\n",
       "home_ownership                   0   object\n",
       "all_util                         0  float64\n",
       "annual_inc                       0  float64\n",
       "annual_inc_joint                 0  float64\n",
       "application_type                 0   object\n",
       "collection_recovery_fee          0  float64\n",
       "collections_12_mths_ex_med       0  float64\n",
       "dti                              0  float64\n",
       "dti_joint                        0  float64\n",
       "earliest_cr_line                 0   object\n",
       "emp_length                       0   object\n",
       "funded_amnt                      0  float64\n",
       "funded_amnt_inv                  0  float64\n",
       "grade                            0   object\n",
       "il_util                          0  float64\n",
       "open_il_24m                      0  float64\n",
       "initial_list_status              0   object\n",
       "inq_fi                           0  float64\n",
       "inq_last_12m                     0  float64\n",
       "installment                      0  float64\n",
       "int_rate                         0  float64\n",
       "issue_d                          0   object\n",
       "loan_amnt                        0  float64\n",
       "loan_status                      0   object\n",
       "max_bal_bc                       0  float64\n",
       "member_id                        0    int64\n",
       "mths_since_rcnt_il               0  float64\n",
       "open_acc_6m                      0  float64\n",
       "open_il_12m                      0  float64\n",
       "Default                          0    int64"
      ]
     },
     "execution_count": 22,
     "metadata": {},
     "output_type": "execute_result"
    }
   ],
   "source": [
    "meta(dataset)"
   ]
  },
  {
   "cell_type": "code",
   "execution_count": 68,
   "metadata": {},
   "outputs": [
    {
     "name": "stdout",
     "output_type": "stream",
     "text": [
      "(709903, 65) (177476, 65) (887379, 65)\n"
     ]
    }
   ],
   "source": [
    "print(dataset.loc[dataset['source']=='train'].shape, dataset.loc[dataset['source']=='test'].shape, dataset.shape)"
   ]
  },
  {
   "cell_type": "code",
   "execution_count": 69,
   "metadata": {
    "collapsed": true
   },
   "outputs": [],
   "source": [
    "# XGboost is good at dealing with numbers but definitely not good when dealing with string. \n",
    "# So the solution is neither we drop them or transform them.\n",
    "drop_elements = ['pymnt_plan',\n",
    "                 'issue_d',#The month which the loan was funded\n",
    "                 'emp_title',\n",
    "                 'desc',\n",
    "                 'title',\n",
    "                 'zip_code',\n",
    "                 'addr_state'\n",
    "                 ]\n",
    "dataset.drop(drop_elements,axis=1,inplace=True)\n",
    "\n",
    "#Handle datetime，将Feb-1985转换成1985-02-01\n",
    "dataset['earliest_cr_line'] =  pd.to_datetime(dataset['earliest_cr_line'], format='%b-%Y')\n",
    "# dataset['issue_d'] = pd.to_datetime(dataset['issue_d'], format='%b-%Y')\n",
    "\n",
    "dataset['earliest_cr_line'] = dataset['earliest_cr_line'].map(lambda x: 12*x.year + x.month)\n",
    "# dataset['issue_d'] = dataset['issue_d'].map(lambda x: 12*x.year + x.month)\n",
    "dataset['nowMonth']=12*pd.to_datetime('today').year+pd.to_datetime('today').month\n",
    "dataset['earliest_cr_line'] = dataset.nowMonth-dataset.earliest_cr_line\n",
    "# dataset['issue_d'] = dataset.nowMonth-dataset.issue_d\n",
    "dataset.drop(['nowMonth'],axis=1,inplace=True)\n",
    "\n",
    "# Mapping term: 36 months->36\n",
    "dataset['term']=dataset['term'].apply(lambda row:int(re.findall(r\"\\d+\\.?\\d*\",row)[0]))\n",
    "\n",
    "# Mapping Category feature\n",
    "category_feature=['grade','sub_grade','home_ownership','verification_status','verification_status_joint','application_type','loan_status',\n",
    "                  'purpose','initial_list_status','emp_length']\n",
    "# 自然关系变量\n",
    "Ordinal_Values = ['grade','sub_grade','emp_length']\n",
    "# 离散变量->one_hot\n",
    "Nominal_Values = ['loan_status', 'home_ownership','verification_status','verification_status_joint','purpose','initial_list_status']\n",
    "dataset[category_feature]=dataset[category_feature].apply(LabelEncoder().fit_transform)\n",
    "\n",
    "#One-Hot Coding¶\n",
    "dataset = pd.get_dummies(dataset, columns=Nominal_Values)\n",
    "    \n",
    "#Handle datetime，将Feb-1985转换成1985-02-01\n",
    "#     dataset['earliest_cr_line'] =  pd.to_datetime(dataset['earliest_cr_line'], format='%b-%Y')\n",
    "#     dataset['issue_d'] = pd.to_datetime(dataset['issue_d'], format='%b-%Y')"
   ]
  },
  {
   "cell_type": "code",
   "execution_count": 70,
   "metadata": {},
   "outputs": [
    {
     "data": {
      "text/plain": [
       "Index(['acc_now_delinq', 'all_util', 'annual_inc', 'annual_inc_joint',\n",
       "       'application_type', 'collection_recovery_fee',\n",
       "       'collections_12_mths_ex_med', 'dti', 'dti_joint', 'earliest_cr_line',\n",
       "       'emp_length', 'funded_amnt', 'funded_amnt_inv', 'grade', 'il_util',\n",
       "       'inq_fi', 'inq_last_12m', 'installment', 'int_rate', 'loan_amnt',\n",
       "       'max_bal_bc', 'member_id', 'mths_since_rcnt_il', 'open_acc_6m',\n",
       "       'open_il_12m', 'open_il_24m', 'open_il_6m', 'open_rv_12m',\n",
       "       'open_rv_24m', 'out_prncp', 'out_prncp_inv', 'policy_code', 'pub_rec',\n",
       "       'recoveries', 'revol_bal', 'revol_util', 'source', 'sub_grade', 'term',\n",
       "       'tot_coll_amt', 'tot_cur_bal', 'total_acc', 'total_bal_il',\n",
       "       'total_cu_tl', 'total_pymnt', 'total_pymnt_inv', 'total_rec_int',\n",
       "       'total_rec_late_fee', 'total_rec_prncp', 'total_rev_hi_lim', 'derog',\n",
       "       'public_record', 'loan_status_0', 'loan_status_1', 'loan_status_2',\n",
       "       'loan_status_3', 'loan_status_4', 'loan_status_5', 'loan_status_6',\n",
       "       'loan_status_7', 'loan_status_8', 'loan_status_9', 'home_ownership_0',\n",
       "       'home_ownership_1', 'home_ownership_2', 'home_ownership_3',\n",
       "       'home_ownership_4', 'home_ownership_5', 'verification_status_0',\n",
       "       'verification_status_1', 'verification_status_2',\n",
       "       'verification_status_joint_0', 'verification_status_joint_1',\n",
       "       'verification_status_joint_2', 'verification_status_joint_3',\n",
       "       'purpose_0', 'purpose_1', 'purpose_2', 'purpose_3', 'purpose_4',\n",
       "       'purpose_5', 'purpose_6', 'purpose_7', 'purpose_8', 'purpose_9',\n",
       "       'purpose_10', 'purpose_11', 'purpose_12', 'purpose_13',\n",
       "       'initial_list_status_0', 'initial_list_status_1'],\n",
       "      dtype='object')"
      ]
     },
     "execution_count": 70,
     "metadata": {},
     "output_type": "execute_result"
    }
   ],
   "source": [
    "dataset.columns"
   ]
  },
  {
   "cell_type": "code",
   "execution_count": 71,
   "metadata": {},
   "outputs": [
    {
     "name": "stdout",
     "output_type": "stream",
     "text": [
      "<class 'pandas.core.frame.DataFrame'>\n",
      "RangeIndex: 709903 entries, 0 to 709902\n",
      "Data columns (total 65 columns):\n",
      "member_id                      709903 non-null int64\n",
      "loan_amnt                      709903 non-null float64\n",
      "funded_amnt                    709903 non-null float64\n",
      "funded_amnt_inv                709903 non-null float64\n",
      "term                           709903 non-null object\n",
      "int_rate                       709903 non-null float64\n",
      "installment                    709903 non-null float64\n",
      "grade                          709903 non-null object\n",
      "sub_grade                      709903 non-null object\n",
      "emp_title                      668721 non-null object\n",
      "emp_length                     709903 non-null object\n",
      "home_ownership                 709903 non-null object\n",
      "annual_inc                     709899 non-null float64\n",
      "verification_status            709903 non-null object\n",
      "issue_d                        709903 non-null object\n",
      "loan_status                    709903 non-null object\n",
      "pymnt_plan                     709903 non-null object\n",
      "desc                           100975 non-null object\n",
      "purpose                        709903 non-null object\n",
      "title                          709776 non-null object\n",
      "zip_code                       709903 non-null object\n",
      "addr_state                     709903 non-null object\n",
      "dti                            709903 non-null float64\n",
      "earliest_cr_line               709879 non-null object\n",
      "mths_since_last_record         109555 non-null float64\n",
      "pub_rec                        709879 non-null float64\n",
      "revol_bal                      709903 non-null float64\n",
      "revol_util                     709494 non-null float64\n",
      "total_acc                      709879 non-null float64\n",
      "initial_list_status            709903 non-null object\n",
      "out_prncp                      709903 non-null float64\n",
      "out_prncp_inv                  709903 non-null float64\n",
      "total_pymnt                    709903 non-null float64\n",
      "total_pymnt_inv                709903 non-null float64\n",
      "total_rec_prncp                709903 non-null float64\n",
      "total_rec_int                  709903 non-null float64\n",
      "total_rec_late_fee             709903 non-null float64\n",
      "recoveries                     709903 non-null float64\n",
      "collection_recovery_fee        709903 non-null float64\n",
      "collections_12_mths_ex_med     709785 non-null float64\n",
      "mths_since_last_major_derog    177424 non-null float64\n",
      "policy_code                    709903 non-null float64\n",
      "application_type               709903 non-null object\n",
      "annual_inc_joint               410 non-null float64\n",
      "dti_joint                      408 non-null float64\n",
      "verification_status_joint      410 non-null object\n",
      "acc_now_delinq                 709903 non-null int64\n",
      "tot_coll_amt                   653768 non-null float64\n",
      "tot_cur_bal                    653768 non-null float64\n",
      "open_acc_6m                    17121 non-null float64\n",
      "open_il_6m                     17121 non-null float64\n",
      "open_il_12m                    17121 non-null float64\n",
      "open_il_24m                    17121 non-null float64\n",
      "mths_since_rcnt_il             16669 non-null float64\n",
      "total_bal_il                   17121 non-null float64\n",
      "il_util                        14938 non-null float64\n",
      "open_rv_12m                    17121 non-null float64\n",
      "open_rv_24m                    17121 non-null float64\n",
      "max_bal_bc                     17121 non-null float64\n",
      "all_util                       17121 non-null float64\n",
      "total_rev_hi_lim               653768 non-null float64\n",
      "inq_fi                         17121 non-null float64\n",
      "total_cu_tl                    17121 non-null float64\n",
      "inq_last_12m                   17121 non-null float64\n",
      "source                         709903 non-null object\n",
      "dtypes: float64(43), int64(2), object(20)\n",
      "memory usage: 352.0+ MB\n",
      "None\n"
     ]
    }
   ],
   "source": [
    "print (train_df.info())"
   ]
  },
  {
   "cell_type": "code",
   "execution_count": 72,
   "metadata": {
    "collapsed": true
   },
   "outputs": [],
   "source": [
    "train = dataset.loc[dataset['source']=='train']\n",
    "test = dataset.loc[dataset['source']=='test']"
   ]
  },
  {
   "cell_type": "code",
   "execution_count": 73,
   "metadata": {},
   "outputs": [
    {
     "name": "stderr",
     "output_type": "stream",
     "text": [
      "D:\\ProgramData\\Anaconda3\\lib\\site-packages\\ipykernel_launcher.py:1: SettingWithCopyWarning: \n",
      "A value is trying to be set on a copy of a slice from a DataFrame\n",
      "\n",
      "See the caveats in the documentation: http://pandas.pydata.org/pandas-docs/stable/indexing.html#indexing-view-versus-copy\n",
      "  \"\"\"Entry point for launching an IPython kernel.\n",
      "D:\\ProgramData\\Anaconda3\\lib\\site-packages\\ipykernel_launcher.py:2: SettingWithCopyWarning: \n",
      "A value is trying to be set on a copy of a slice from a DataFrame\n",
      "\n",
      "See the caveats in the documentation: http://pandas.pydata.org/pandas-docs/stable/indexing.html#indexing-view-versus-copy\n",
      "  \n"
     ]
    }
   ],
   "source": [
    "train.drop('source',axis=1,inplace=True)\n",
    "test.drop(['source','acc_now_delinq'],axis=1,inplace=True)"
   ]
  },
  {
   "cell_type": "code",
   "execution_count": 74,
   "metadata": {},
   "outputs": [
    {
     "name": "stdout",
     "output_type": "stream",
     "text": [
      "(709903, 90) (177476, 89)\n"
     ]
    }
   ],
   "source": [
    "print(train.shape, test.shape)"
   ]
  },
  {
   "cell_type": "code",
   "execution_count": 75,
   "metadata": {
    "collapsed": true
   },
   "outputs": [],
   "source": [
    "train.to_csv('../dump/train_modified.csv',index=False)\n",
    "test.to_csv('../dump/test_modified.csv',index=False)"
   ]
  },
  {
   "cell_type": "code",
   "execution_count": null,
   "metadata": {
    "collapsed": true
   },
   "outputs": [],
   "source": []
  }
 ],
 "metadata": {
  "kernelspec": {
   "display_name": "Python 3",
   "language": "python",
   "name": "python3"
  },
  "language_info": {
   "codemirror_mode": {
    "name": "ipython",
    "version": 3
   },
   "file_extension": ".py",
   "mimetype": "text/x-python",
   "name": "python",
   "nbconvert_exporter": "python",
   "pygments_lexer": "ipython3",
   "version": "3.6.2"
  }
 },
 "nbformat": 4,
 "nbformat_minor": 2
}
