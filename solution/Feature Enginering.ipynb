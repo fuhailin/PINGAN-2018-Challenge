{
 "cells": [
  {
   "cell_type": "code",
   "execution_count": 1,
   "metadata": {
    "collapsed": true
   },
   "outputs": [],
   "source": [
    "import pandas as pd\n",
    "import matplotlib.pyplot as plt\n",
    "import seaborn as sns\n",
    "pd.set_option('display.max_rows', 100)\n",
    "import missingno as msno\n",
    "import re\n",
    "from sklearn.preprocessing import LabelEncoder\n",
    "import pickle\n",
    "%matplotlib inline"
   ]
  },
  {
   "cell_type": "code",
   "execution_count": 2,
   "metadata": {},
   "outputs": [
    {
     "name": "stderr",
     "output_type": "stream",
     "text": [
      "D:\\ProgramData\\Anaconda3\\lib\\site-packages\\IPython\\core\\interactiveshell.py:2698: DtypeWarning: Columns (45) have mixed types. Specify dtype option on import or set low_memory=False.\n",
      "  interactivity=interactivity, compiler=compiler, result=result)\n"
     ]
    }
   ],
   "source": [
    "train_df = pd.read_csv(\"../input/train.csv\")\n",
    "test_df = pd.read_csv(\"../input/test.csv\")"
   ]
  },
  {
   "cell_type": "code",
   "execution_count": null,
   "metadata": {
    "collapsed": true
   },
   "outputs": [],
   "source": [
    "train_df.head(6).transpose()"
   ]
  },
  {
   "cell_type": "code",
   "execution_count": null,
   "metadata": {
    "collapsed": true
   },
   "outputs": [],
   "source": [
    "print (train_df.info())"
   ]
  },
  {
   "cell_type": "code",
   "execution_count": null,
   "metadata": {
    "collapsed": true
   },
   "outputs": [],
   "source": [
    "#目前使用的特征\n",
    "feature = ['loan_amnt',#借贷总额\n",
    "           'funded_amnt',\n",
    "           'funded_amnt_inv',\n",
    "           'term', \n",
    "           'int_rate',\n",
    "           'installment',\n",
    "           'grade',\n",
    "           'sub_grade',\n",
    "           'emp_length',#从业时长\n",
    "           'home_ownership',\n",
    "           'annual_inc',#年收入,有4个缺失值\n",
    "           'verification_status',#object\n",
    "           'loan_status',#object\n",
    "           'pymnt_plan',#object,是否已经为贷款实施了付款计划\n",
    "           'dti',#月付与月收比率\n",
    "           'mths_since_last_record',#有大量缺失值\n",
    "           'pub_rec',#有缺失值\n",
    "           'revol_bal',\n",
    "           'revol_util',\n",
    "           'total_acc',#信用额度\n",
    "           'initial_list_status',#object\n",
    "           'out_prncp',\n",
    "           'out_prncp_inv',\n",
    "           'total_pymnt',\n",
    "           'total_pymnt_inv',\n",
    "           'total_rec_prncp',\n",
    "           'total_rec_int',\n",
    "           'total_rec_late_fee',\n",
    "           'recoveries']"
   ]
  },
  {
   "cell_type": "code",
   "execution_count": 3,
   "metadata": {},
   "outputs": [
    {
     "data": {
      "text/plain": [
       "(887379, 65)"
      ]
     },
     "execution_count": 3,
     "metadata": {},
     "output_type": "execute_result"
    }
   ],
   "source": [
    "#Combine into data:\n",
    "train_df['source']= 'train'\n",
    "test_df['source'] = 'test'\n",
    "dataset=pd.concat([train_df,test_df],ignore_index=True)\n",
    "dataset.shape"
   ]
  },
  {
   "cell_type": "code",
   "execution_count": 5,
   "metadata": {},
   "outputs": [
    {
     "name": "stdout",
     "output_type": "stream",
     "text": [
      "acc_now_delinq                 177476\n",
      "addr_state                          0\n",
      "all_util                       866007\n",
      "annual_inc                          4\n",
      "annual_inc_joint               886868\n",
      "application_type                    0\n",
      "collection_recovery_fee             0\n",
      "collections_12_mths_ex_med        145\n",
      "desc                           761350\n",
      "dti                                 0\n",
      "dti_joint                      886870\n",
      "earliest_cr_line                   29\n",
      "emp_length                          0\n",
      "emp_title                       51457\n",
      "funded_amnt                         0\n",
      "funded_amnt_inv                     0\n",
      "grade                               0\n",
      "home_ownership                      0\n",
      "il_util                        868762\n",
      "initial_list_status                 0\n",
      "inq_fi                         866007\n",
      "inq_last_12m                   866007\n",
      "installment                         0\n",
      "int_rate                            0\n",
      "issue_d                             0\n",
      "loan_amnt                           0\n",
      "loan_status                         0\n",
      "max_bal_bc                     866007\n",
      "member_id                           0\n",
      "mths_since_last_major_derog    665676\n",
      "mths_since_last_record         750326\n",
      "mths_since_rcnt_il             866569\n",
      "open_acc_6m                    866007\n",
      "open_il_12m                    866007\n",
      "open_il_24m                    866007\n",
      "open_il_6m                     866007\n",
      "open_rv_12m                    866007\n",
      "open_rv_24m                    866007\n",
      "out_prncp                           0\n",
      "out_prncp_inv                       0\n",
      "policy_code                         0\n",
      "pub_rec                            29\n",
      "purpose                             0\n",
      "pymnt_plan                          0\n",
      "recoveries                          0\n",
      "revol_bal                           0\n",
      "revol_util                        502\n",
      "source                              0\n",
      "sub_grade                           0\n",
      "term                                0\n",
      "title                             151\n",
      "tot_coll_amt                    70276\n",
      "tot_cur_bal                     70276\n",
      "total_acc                          29\n",
      "total_bal_il                   866007\n",
      "total_cu_tl                    866007\n",
      "total_pymnt                         0\n",
      "total_pymnt_inv                     0\n",
      "total_rec_int                       0\n",
      "total_rec_late_fee                  0\n",
      "total_rec_prncp                     0\n",
      "total_rev_hi_lim                70276\n",
      "verification_status                 0\n",
      "verification_status_joint      886868\n",
      "zip_code                            0\n",
      "dtype: int64\n"
     ]
    }
   ],
   "source": [
    "# Check missing:\n",
    "print(dataset.isnull().sum())"
   ]
  },
  {
   "cell_type": "code",
   "execution_count": 4,
   "metadata": {
    "collapsed": true
   },
   "outputs": [],
   "source": [
    "# XGboost is good at dealing with numbers but definitely not good when dealing with string. \n",
    "# So the solution is neither we drop them or transform them.\n",
    "drop_elements = ['annual_inc_joint',# high missing rate\n",
    "                 'dti_joint',# high missing rate\n",
    "                 'verification_status_joint',# high missing rate\n",
    "                 'issue_d',#The month which the loan was funded\n",
    "                 'emp_title',\n",
    "                 'desc',\n",
    "                 'title',\n",
    "                 'desc', \n",
    "                 'zip_code',\n",
    "                 'addr_state',\n",
    "                 'earliest_cr_line', #借款人最早报告的信用额度被打开的月份\n",
    "                 'application_type']\n",
    "dataset.drop(drop_elements,axis=1,inplace=True)\n",
    "\n",
    "# Mapping emp_length\n",
    "emp_length_mapping = {'< 1 year': 1, '1 year': 2, '2 years': 3, '3 years': 4, '4 years': 5, '5 years': 6, '6 years': 7, '7 years': 8, '8 years': 9, '9 years': 10, '10 years': 11, '10+ years': 12}\n",
    "dataset['emp_length'] = dataset['emp_length'].map(emp_length_mapping)\n",
    "dataset['emp_length'] = dataset['emp_length'].fillna(0)\n",
    "\n",
    "# Mapping term: 36 months->36\n",
    "dataset['term']=dataset['term'].apply(lambda row:int(re.findall(r\"\\d+\\.?\\d*\",row)[0]))\n",
    "\n",
    "# Mapping Category feature\n",
    "category_feature=['grade','sub_grade','home_ownership','verification_status','pymnt_plan','loan_status','purpose','initial_list_status']\n",
    "dataset[category_feature]=dataset[category_feature].apply(LabelEncoder().fit_transform)\n",
    "\n",
    "#One-Hot Coding¶\n",
    "# dataset = pd.get_dummies(dataset, columns=category_feature)\n",
    "    \n",
    "#Handle datetime，将Feb-1985转换成1985-02-01\n",
    "#     dataset['earliest_cr_line'] =  pd.to_datetime(dataset['earliest_cr_line'], format='%b-%Y')\n",
    "#     dataset['issue_d'] = pd.to_datetime(dataset['issue_d'], format='%b-%Y')"
   ]
  },
  {
   "cell_type": "code",
   "execution_count": 5,
   "metadata": {},
   "outputs": [
    {
     "data": {
      "text/plain": [
       "Index(['acc_now_delinq', 'all_util', 'annual_inc', 'collection_recovery_fee',\n",
       "       'collections_12_mths_ex_med', 'dti', 'emp_length', 'funded_amnt',\n",
       "       'funded_amnt_inv', 'grade', 'home_ownership', 'il_util',\n",
       "       'initial_list_status', 'inq_fi', 'inq_last_12m', 'installment',\n",
       "       'int_rate', 'loan_amnt', 'loan_status', 'max_bal_bc', 'member_id',\n",
       "       'mths_since_last_major_derog', 'mths_since_last_record',\n",
       "       'mths_since_rcnt_il', 'open_acc_6m', 'open_il_12m', 'open_il_24m',\n",
       "       'open_il_6m', 'open_rv_12m', 'open_rv_24m', 'out_prncp',\n",
       "       'out_prncp_inv', 'policy_code', 'pub_rec', 'purpose', 'pymnt_plan',\n",
       "       'recoveries', 'revol_bal', 'revol_util', 'source', 'sub_grade', 'term',\n",
       "       'tot_coll_amt', 'tot_cur_bal', 'total_acc', 'total_bal_il',\n",
       "       'total_cu_tl', 'total_pymnt', 'total_pymnt_inv', 'total_rec_int',\n",
       "       'total_rec_late_fee', 'total_rec_prncp', 'total_rev_hi_lim',\n",
       "       'verification_status'],\n",
       "      dtype='object')"
      ]
     },
     "execution_count": 5,
     "metadata": {},
     "output_type": "execute_result"
    }
   ],
   "source": [
    "dataset.columns"
   ]
  },
  {
   "cell_type": "code",
   "execution_count": null,
   "metadata": {
    "collapsed": true
   },
   "outputs": [],
   "source": [
    "print (train_df.info())"
   ]
  },
  {
   "cell_type": "code",
   "execution_count": null,
   "metadata": {
    "collapsed": true
   },
   "outputs": [],
   "source": [
    "train_df.head().transpose()"
   ]
  },
  {
   "cell_type": "code",
   "execution_count": 6,
   "metadata": {
    "collapsed": true
   },
   "outputs": [],
   "source": [
    "train = dataset.loc[dataset['source']=='train']\n",
    "test = dataset.loc[dataset['source']=='test']"
   ]
  },
  {
   "cell_type": "code",
   "execution_count": 7,
   "metadata": {},
   "outputs": [
    {
     "name": "stderr",
     "output_type": "stream",
     "text": [
      "D:\\ProgramData\\Anaconda3\\lib\\site-packages\\ipykernel_launcher.py:1: SettingWithCopyWarning: \n",
      "A value is trying to be set on a copy of a slice from a DataFrame\n",
      "\n",
      "See the caveats in the documentation: http://pandas.pydata.org/pandas-docs/stable/indexing.html#indexing-view-versus-copy\n",
      "  \"\"\"Entry point for launching an IPython kernel.\n",
      "D:\\ProgramData\\Anaconda3\\lib\\site-packages\\ipykernel_launcher.py:2: SettingWithCopyWarning: \n",
      "A value is trying to be set on a copy of a slice from a DataFrame\n",
      "\n",
      "See the caveats in the documentation: http://pandas.pydata.org/pandas-docs/stable/indexing.html#indexing-view-versus-copy\n",
      "  \n"
     ]
    }
   ],
   "source": [
    "train.drop('source',axis=1,inplace=True)\n",
    "test.drop(['source','acc_now_delinq'],axis=1,inplace=True)"
   ]
  },
  {
   "cell_type": "code",
   "execution_count": 8,
   "metadata": {
    "collapsed": true
   },
   "outputs": [],
   "source": [
    "train.to_csv('../dump/train_modified_label.csv',index=False)\n",
    "test.to_csv('../dump/test_modified_label.csv',index=False)"
   ]
  },
  {
   "cell_type": "code",
   "execution_count": null,
   "metadata": {
    "collapsed": true
   },
   "outputs": [],
   "source": []
  }
 ],
 "metadata": {
  "kernelspec": {
   "display_name": "Python 3",
   "language": "python",
   "name": "python3"
  },
  "language_info": {
   "codemirror_mode": {
    "name": "ipython",
    "version": 3
   },
   "file_extension": ".py",
   "mimetype": "text/x-python",
   "name": "python",
   "nbconvert_exporter": "python",
   "pygments_lexer": "ipython3",
   "version": "3.6.2"
  }
 },
 "nbformat": 4,
 "nbformat_minor": 2
}
