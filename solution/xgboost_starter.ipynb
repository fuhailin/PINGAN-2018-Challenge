{
 "cells": [
  {
   "cell_type": "code",
   "execution_count": 2,
   "metadata": {},
   "outputs": [
    {
     "name": "stderr",
     "output_type": "stream",
     "text": [
      "D:\\ProgramData\\Anaconda3\\lib\\site-packages\\sklearn\\cross_validation.py:41: DeprecationWarning: This module was deprecated in version 0.18 in favor of the model_selection module into which all the refactored classes and functions are moved. Also note that the interface of the new CV iterators are different from that of this module. This module will be removed in 0.20.\n",
      "  \"This module will be removed in 0.20.\", DeprecationWarning)\n",
      "D:\\ProgramData\\Anaconda3\\lib\\site-packages\\sklearn\\grid_search.py:42: DeprecationWarning: This module was deprecated in version 0.18 in favor of the model_selection module into which all the refactored classes and functions are moved. This module will be removed in 0.20.\n",
      "  DeprecationWarning)\n"
     ]
    }
   ],
   "source": [
    "import pickle\n",
    "from sklearn.model_selection import train_test_split\n",
    "from sklearn import metrics   #Additional scklearn functions\n",
    "from sklearn.grid_search import GridSearchCV   #Perforing grid search\n",
    "import pandas as pd\n",
    "import numpy as np\n",
    "import xgboost as xgb\n",
    "from xgboost.sklearn import XGBClassifier\n",
    "\n",
    "import matplotlib.pylab as plt\n",
    "%matplotlib inline\n",
    "from matplotlib.pylab import rcParams\n",
    "rcParams['figure.figsize'] = 20, 4"
   ]
  },
  {
   "cell_type": "code",
   "execution_count": 7,
   "metadata": {},
   "outputs": [],
   "source": [
    "train_df = pd.read_csv('../dump/train_modified_label.csv')\n",
    "test_df = pd.read_csv('../dump/test_modified_label.csv')\n",
    "label = pd.read_csv('../input/test_label.csv')"
   ]
  },
  {
   "cell_type": "code",
   "execution_count": 8,
   "metadata": {},
   "outputs": [
    {
     "name": "stdout",
     "output_type": "stream",
     "text": [
      "(709903, 82) (177476, 81) (177476, 2)\n"
     ]
    }
   ],
   "source": [
    "target='acc_now_delinq'\n",
    "IDcol = 'member_id'\n",
    "print(train_df.shape, test_df.shape, label.shape)"
   ]
  },
  {
   "cell_type": "code",
   "execution_count": 11,
   "metadata": {},
   "outputs": [
    {
     "data": {
      "text/plain": [
       "Index(['acc_now_delinq', 'all_util', 'annual_inc', 'collection_recovery_fee',\n",
       "       'collections_12_mths_ex_med', 'dti', 'emp_length', 'funded_amnt',\n",
       "       'funded_amnt_inv', 'grade', 'il_util', 'inq_fi', 'inq_last_12m',\n",
       "       'installment', 'int_rate', 'loan_amnt', 'max_bal_bc', 'member_id',\n",
       "       'mths_since_last_major_derog', 'mths_since_last_record',\n",
       "       'mths_since_rcnt_il', 'open_acc_6m', 'open_il_12m', 'open_il_24m',\n",
       "       'open_il_6m', 'open_rv_12m', 'open_rv_24m', 'out_prncp',\n",
       "       'out_prncp_inv', 'policy_code', 'pub_rec', 'recoveries', 'revol_bal',\n",
       "       'revol_util', 'sub_grade', 'term', 'tot_coll_amt', 'tot_cur_bal',\n",
       "       'total_acc', 'total_bal_il', 'total_cu_tl', 'total_pymnt',\n",
       "       'total_pymnt_inv', 'total_rec_int', 'total_rec_late_fee',\n",
       "       'total_rec_prncp', 'total_rev_hi_lim', 'loan_status_0', 'loan_status_1',\n",
       "       'loan_status_2', 'loan_status_3', 'loan_status_4', 'loan_status_5',\n",
       "       'loan_status_6', 'loan_status_7', 'loan_status_8', 'loan_status_9',\n",
       "       'home_ownership_0', 'home_ownership_1', 'home_ownership_2',\n",
       "       'home_ownership_3', 'home_ownership_4', 'home_ownership_5',\n",
       "       'verification_status_0', 'verification_status_1',\n",
       "       'verification_status_2', 'purpose_0', 'purpose_1', 'purpose_2',\n",
       "       'purpose_3', 'purpose_4', 'purpose_5', 'purpose_6', 'purpose_7',\n",
       "       'purpose_8', 'purpose_9', 'purpose_10', 'purpose_11', 'purpose_12',\n",
       "       'purpose_13', 'initial_list_status_0', 'initial_list_status_1'],\n",
       "      dtype='object')"
      ]
     },
     "execution_count": 11,
     "metadata": {},
     "output_type": "execute_result"
    }
   ],
   "source": [
    "train_df.columns"
   ]
  },
  {
   "cell_type": "code",
   "execution_count": 9,
   "metadata": {
    "collapsed": true
   },
   "outputs": [],
   "source": [
    "# submission = pd.read_csv('../input/sample_submission.csv')\n",
    "def modelfit(alg, dtrain, dtest, predictors,useTrainCV=True, cv_folds=5, early_stopping_rounds=50):\n",
    "    \n",
    "    if useTrainCV:\n",
    "        xgb_param = alg.get_xgb_params()\n",
    "        xgtrain = xgb.DMatrix(dtrain[predictors].values, label=dtrain[target].values)\n",
    "        xgtest = xgb.DMatrix(dtest[predictors].values)\n",
    "        cvresult = xgb.cv(xgb_param, xgtrain, num_boost_round=alg.get_params()['n_estimators'], nfold=cv_folds,\n",
    "            metrics='auc', early_stopping_rounds=early_stopping_rounds, verbose_eval =True)\n",
    "        alg.set_params(n_estimators=cvresult.shape[0])\n",
    "    \n",
    "    #Fit the algorithm on the data\n",
    "    alg.fit(dtrain[predictors], dtrain['acc_now_delinq'],eval_metric='auc')\n",
    "        \n",
    "    #Predict training set:\n",
    "    dtrain_predictions = alg.predict(dtrain[predictors])\n",
    "    dtrain_predprob = alg.predict_proba(dtrain[predictors])[:,1]\n",
    "        \n",
    "    #Print model report:\n",
    "    print(\"\\nModel Report\")\n",
    "    print(\"Accuracy : %.4g\" % metrics.accuracy_score(dtrain['acc_now_delinq'].values, dtrain_predictions))\n",
    "    print(\"AUC Score (Train): %f\" % metrics.roc_auc_score(dtrain['acc_now_delinq'], dtrain_predprob))\n",
    "    print(metrics.classification_report(dtrain['acc_now_delinq'], dtrain_predictions))\n",
    "    \n",
    "#     Predict on testing data:\n",
    "    dtest_predprob  = alg.predict_proba(dtest[predictors])[:,1]\n",
    "    dtest_predictions = alg.predict(dtest[predictors])\n",
    "#     submission = submission.merge(dtest[[IDcol,target]], on=IDcol)\n",
    "    print('AUC Score (Test): %f' % metrics.roc_auc_score(label['acc_now_delinq'], dtest_predprob))\n",
    "    print(\"Fbeta_score(Test):%.4g\"% metrics.fbeta_score(label['acc_now_delinq'].values, dtest_predictions, beta = 2))\n",
    "    print(metrics.classification_report(label['acc_now_delinq'], dtest_predictions))\n",
    "                \n",
    "    feat_imp = pd.Series(alg.get_booster().get_score(importance_type='weight')).sort_values(ascending=False)\n",
    "    feat_imp.plot(kind='bar', title='Feature Importances')\n",
    "    plt.ylabel('Feature Importance Score')"
   ]
  },
  {
   "cell_type": "code",
   "execution_count": 12,
   "metadata": {},
   "outputs": [
    {
     "name": "stdout",
     "output_type": "stream",
     "text": [
      "[0]\ttrain-auc:0.758916+0.0108178\ttest-auc:0.748545+0.0115792\n",
      "[1]\ttrain-auc:0.779664+0.00797507\ttest-auc:0.77133+0.0167697\n",
      "[2]\ttrain-auc:0.79341+0.00712927\ttest-auc:0.785796+0.011369\n",
      "[3]\ttrain-auc:0.796213+0.0065087\ttest-auc:0.787771+0.0133469\n",
      "[4]\ttrain-auc:0.806655+0.00308188\ttest-auc:0.799269+0.0102945\n",
      "[5]\ttrain-auc:0.810229+0.00230396\ttest-auc:0.802889+0.0102936\n",
      "[6]\ttrain-auc:0.812335+0.00462899\ttest-auc:0.804286+0.00967988\n",
      "[7]\ttrain-auc:0.815851+0.00473355\ttest-auc:0.806568+0.00964592\n",
      "[8]\ttrain-auc:0.820215+0.00286457\ttest-auc:0.811777+0.00942715\n",
      "[9]\ttrain-auc:0.821736+0.00209033\ttest-auc:0.81156+0.0100114\n",
      "[10]\ttrain-auc:0.827254+0.00267331\ttest-auc:0.815928+0.0096017\n",
      "[11]\ttrain-auc:0.829203+0.00388545\ttest-auc:0.816846+0.00737107\n",
      "[12]\ttrain-auc:0.830571+0.00449256\ttest-auc:0.817738+0.00744622\n",
      "[13]\ttrain-auc:0.832295+0.00564961\ttest-auc:0.818733+0.00828098\n",
      "[14]\ttrain-auc:0.833696+0.00587222\ttest-auc:0.819176+0.00817083\n",
      "[15]\ttrain-auc:0.835224+0.00584985\ttest-auc:0.821084+0.00594249\n",
      "[16]\ttrain-auc:0.83642+0.00594547\ttest-auc:0.822769+0.00649585\n",
      "[17]\ttrain-auc:0.838266+0.00569621\ttest-auc:0.824823+0.00474447\n",
      "[18]\ttrain-auc:0.83819+0.00529486\ttest-auc:0.824831+0.00446215\n",
      "[19]\ttrain-auc:0.840377+0.00472104\ttest-auc:0.825814+0.00438469\n",
      "[20]\ttrain-auc:0.84138+0.00431264\ttest-auc:0.8262+0.00440466\n",
      "[21]\ttrain-auc:0.843346+0.00460232\ttest-auc:0.827621+0.00466168\n",
      "[22]\ttrain-auc:0.84448+0.00356411\ttest-auc:0.828819+0.00423668\n",
      "[23]\ttrain-auc:0.846221+0.0029469\ttest-auc:0.830466+0.00494269\n",
      "[24]\ttrain-auc:0.847524+0.00248322\ttest-auc:0.830712+0.0041994\n",
      "[25]\ttrain-auc:0.848396+0.00317722\ttest-auc:0.830905+0.00416291\n",
      "[26]\ttrain-auc:0.848686+0.0034622\ttest-auc:0.830798+0.00381007\n",
      "[27]\ttrain-auc:0.84933+0.00422496\ttest-auc:0.831395+0.00354505\n",
      "[28]\ttrain-auc:0.8502+0.00363284\ttest-auc:0.83251+0.00400639\n",
      "[29]\ttrain-auc:0.850488+0.00325864\ttest-auc:0.832467+0.00367394\n",
      "[30]\ttrain-auc:0.851484+0.00247238\ttest-auc:0.833144+0.0042877\n",
      "[31]\ttrain-auc:0.85264+0.00187957\ttest-auc:0.834415+0.00591459\n",
      "[32]\ttrain-auc:0.853702+0.00154167\ttest-auc:0.834808+0.00589245\n",
      "[33]\ttrain-auc:0.854585+0.00124694\ttest-auc:0.835553+0.00573105\n",
      "[34]\ttrain-auc:0.855052+0.00127349\ttest-auc:0.835603+0.0054463\n",
      "[35]\ttrain-auc:0.855548+0.00120657\ttest-auc:0.836122+0.00526405\n",
      "[36]\ttrain-auc:0.856425+0.00130294\ttest-auc:0.836553+0.00485628\n",
      "[37]\ttrain-auc:0.857478+0.0011992\ttest-auc:0.837447+0.00525665\n",
      "[38]\ttrain-auc:0.858356+0.00171713\ttest-auc:0.838249+0.00593822\n",
      "[39]\ttrain-auc:0.859634+0.00117164\ttest-auc:0.839242+0.00609195\n",
      "[40]\ttrain-auc:0.861574+0.00165018\ttest-auc:0.840531+0.00661773\n",
      "[41]\ttrain-auc:0.861965+0.00181079\ttest-auc:0.841218+0.00705604\n",
      "[42]\ttrain-auc:0.86305+0.00199853\ttest-auc:0.841449+0.00723179\n",
      "[43]\ttrain-auc:0.864437+0.00167075\ttest-auc:0.842559+0.00709992\n",
      "[44]\ttrain-auc:0.864545+0.00128694\ttest-auc:0.842771+0.00681565\n",
      "[45]\ttrain-auc:0.865063+0.00145722\ttest-auc:0.843361+0.00648462\n",
      "[46]\ttrain-auc:0.865705+0.00184778\ttest-auc:0.8439+0.00673468\n",
      "[47]\ttrain-auc:0.866788+0.00187236\ttest-auc:0.845004+0.00613115\n",
      "[48]\ttrain-auc:0.867775+0.00114045\ttest-auc:0.845724+0.00568914\n",
      "[49]\ttrain-auc:0.869133+0.0015545\ttest-auc:0.846504+0.00532169\n",
      "[50]\ttrain-auc:0.870067+0.00103285\ttest-auc:0.846972+0.00488194\n",
      "[51]\ttrain-auc:0.871171+0.00138641\ttest-auc:0.847856+0.00501258\n",
      "[52]\ttrain-auc:0.872417+0.00171916\ttest-auc:0.84886+0.00497611\n",
      "[53]\ttrain-auc:0.873863+0.00112861\ttest-auc:0.850192+0.00494349\n",
      "[54]\ttrain-auc:0.874784+0.00134922\ttest-auc:0.850816+0.00538761\n",
      "[55]\ttrain-auc:0.876046+0.00126442\ttest-auc:0.852062+0.00518537\n",
      "[56]\ttrain-auc:0.87779+0.00107235\ttest-auc:0.853493+0.00537728\n",
      "[57]\ttrain-auc:0.879258+0.00104254\ttest-auc:0.854674+0.00545684\n",
      "[58]\ttrain-auc:0.880582+0.000860598\ttest-auc:0.855375+0.00550259\n",
      "[59]\ttrain-auc:0.881834+0.00100695\ttest-auc:0.85615+0.00531215\n",
      "[60]\ttrain-auc:0.883576+0.00114594\ttest-auc:0.8572+0.00477949\n",
      "[61]\ttrain-auc:0.884954+0.0012694\ttest-auc:0.857967+0.00504171\n",
      "[62]\ttrain-auc:0.886368+0.00133511\ttest-auc:0.859146+0.00510495\n",
      "[63]\ttrain-auc:0.887714+0.00156673\ttest-auc:0.859859+0.0048949\n",
      "[64]\ttrain-auc:0.889104+0.00138973\ttest-auc:0.860438+0.00496559\n",
      "[65]\ttrain-auc:0.890206+0.00159933\ttest-auc:0.861047+0.00513286\n",
      "[66]\ttrain-auc:0.891274+0.00134899\ttest-auc:0.861676+0.0051325\n",
      "[67]\ttrain-auc:0.892596+0.00138717\ttest-auc:0.862487+0.00488143\n",
      "[68]\ttrain-auc:0.893616+0.00126149\ttest-auc:0.863128+0.00513142\n",
      "[69]\ttrain-auc:0.894607+0.00092917\ttest-auc:0.863691+0.00549019\n",
      "[70]\ttrain-auc:0.895774+0.00135884\ttest-auc:0.864586+0.00513873\n",
      "[71]\ttrain-auc:0.897096+0.00133798\ttest-auc:0.865395+0.00492781\n",
      "[72]\ttrain-auc:0.898038+0.000992801\ttest-auc:0.865951+0.0053571\n",
      "[73]\ttrain-auc:0.898907+0.00104836\ttest-auc:0.866497+0.00564041\n",
      "[74]\ttrain-auc:0.900001+0.00113308\ttest-auc:0.867436+0.00550843\n",
      "[75]\ttrain-auc:0.900892+0.00113309\ttest-auc:0.868197+0.005569\n",
      "[76]\ttrain-auc:0.901734+0.000953725\ttest-auc:0.86861+0.00592263\n",
      "[77]\ttrain-auc:0.902643+0.000904903\ttest-auc:0.869001+0.00601238\n",
      "[78]\ttrain-auc:0.903621+0.00102205\ttest-auc:0.869712+0.00612845\n",
      "[79]\ttrain-auc:0.904502+0.00124896\ttest-auc:0.869981+0.00597745\n",
      "[80]\ttrain-auc:0.905237+0.00119384\ttest-auc:0.870539+0.00575116\n",
      "[81]\ttrain-auc:0.906178+0.00124433\ttest-auc:0.871019+0.00575402\n",
      "[82]\ttrain-auc:0.906937+0.00126516\ttest-auc:0.871332+0.00586018\n",
      "[83]\ttrain-auc:0.907681+0.00112885\ttest-auc:0.871627+0.00575805\n",
      "[84]\ttrain-auc:0.908475+0.000991249\ttest-auc:0.87201+0.00571446\n",
      "[85]\ttrain-auc:0.909335+0.0011264\ttest-auc:0.872511+0.00565501\n",
      "[86]\ttrain-auc:0.909992+0.000897574\ttest-auc:0.872657+0.00577314\n",
      "[87]\ttrain-auc:0.910772+0.000823216\ttest-auc:0.872972+0.00574414\n",
      "[88]\ttrain-auc:0.91167+0.000750723\ttest-auc:0.873302+0.00564707\n",
      "[89]\ttrain-auc:0.912391+0.000979687\ttest-auc:0.873734+0.00562954\n",
      "[90]\ttrain-auc:0.913017+0.000977199\ttest-auc:0.873932+0.00558315\n",
      "[91]\ttrain-auc:0.913771+0.00124767\ttest-auc:0.874234+0.00547164\n",
      "[92]\ttrain-auc:0.914382+0.00134056\ttest-auc:0.874634+0.00531592\n",
      "[93]\ttrain-auc:0.914765+0.00129209\ttest-auc:0.874797+0.00549377\n",
      "[94]\ttrain-auc:0.915532+0.00133975\ttest-auc:0.87513+0.0056987\n",
      "[95]\ttrain-auc:0.91618+0.00129593\ttest-auc:0.875385+0.0055908\n",
      "[96]\ttrain-auc:0.916797+0.00129668\ttest-auc:0.875492+0.00547214\n",
      "[97]\ttrain-auc:0.917382+0.00137652\ttest-auc:0.875855+0.00535883\n",
      "[98]\ttrain-auc:0.917915+0.00128723\ttest-auc:0.87619+0.005363\n",
      "[99]\ttrain-auc:0.918559+0.00113585\ttest-auc:0.876448+0.0054476\n",
      "[100]\ttrain-auc:0.919054+0.00105952\ttest-auc:0.876621+0.00537419\n",
      "[101]\ttrain-auc:0.919469+0.000764471\ttest-auc:0.876769+0.00548782\n",
      "[102]\ttrain-auc:0.919905+0.000831892\ttest-auc:0.87697+0.00542927\n",
      "[103]\ttrain-auc:0.920316+0.000919443\ttest-auc:0.876961+0.00543092\n",
      "[104]\ttrain-auc:0.920649+0.000948554\ttest-auc:0.877225+0.00548665\n",
      "[105]\ttrain-auc:0.921171+0.000921281\ttest-auc:0.877437+0.00546017\n",
      "[106]\ttrain-auc:0.921716+0.000995605\ttest-auc:0.877607+0.00549229\n",
      "[107]\ttrain-auc:0.922239+0.00103453\ttest-auc:0.877841+0.00541919\n",
      "[108]\ttrain-auc:0.922658+0.000852773\ttest-auc:0.878065+0.00552884\n",
      "[109]\ttrain-auc:0.922985+0.000881885\ttest-auc:0.878084+0.00548671\n",
      "[110]\ttrain-auc:0.923432+0.0010814\ttest-auc:0.878097+0.00556388\n",
      "[111]\ttrain-auc:0.92393+0.00100312\ttest-auc:0.878138+0.00560595\n",
      "[112]\ttrain-auc:0.924288+0.000966023\ttest-auc:0.87833+0.00558358\n",
      "[113]\ttrain-auc:0.924653+0.00108117\ttest-auc:0.878533+0.005517\n",
      "[114]\ttrain-auc:0.925174+0.00102467\ttest-auc:0.878671+0.00547782\n",
      "[115]\ttrain-auc:0.925525+0.00101056\ttest-auc:0.878723+0.00548122\n",
      "[116]\ttrain-auc:0.926012+0.00108849\ttest-auc:0.879051+0.00541603\n",
      "[117]\ttrain-auc:0.926483+0.00102492\ttest-auc:0.879119+0.00540279\n",
      "[118]\ttrain-auc:0.926711+0.00100852\ttest-auc:0.879291+0.0053492\n",
      "[119]\ttrain-auc:0.927059+0.0010539\ttest-auc:0.879428+0.00531408\n",
      "[120]\ttrain-auc:0.927399+0.00110919\ttest-auc:0.879652+0.00533598\n",
      "[121]\ttrain-auc:0.927783+0.00110812\ttest-auc:0.879696+0.00529154\n",
      "[122]\ttrain-auc:0.928038+0.00114237\ttest-auc:0.879889+0.00531328\n",
      "[123]\ttrain-auc:0.928522+0.00107591\ttest-auc:0.880149+0.0051649\n",
      "[124]\ttrain-auc:0.928863+0.0011525\ttest-auc:0.880151+0.00531386\n",
      "[125]\ttrain-auc:0.929149+0.00108378\ttest-auc:0.88026+0.00537368\n",
      "[126]\ttrain-auc:0.929424+0.0010986\ttest-auc:0.880484+0.00532847\n",
      "[127]\ttrain-auc:0.929816+0.00101846\ttest-auc:0.880425+0.0052753\n",
      "[128]\ttrain-auc:0.930168+0.000863698\ttest-auc:0.88039+0.0053689\n"
     ]
    },
    {
     "name": "stdout",
     "output_type": "stream",
     "text": [
      "[129]\ttrain-auc:0.930481+0.000976526\ttest-auc:0.880261+0.00521929\n",
      "[130]\ttrain-auc:0.930799+0.00106559\ttest-auc:0.880345+0.00520317\n",
      "[131]\ttrain-auc:0.931161+0.00100071\ttest-auc:0.880433+0.00518801\n",
      "[132]\ttrain-auc:0.931718+0.0009942\ttest-auc:0.880622+0.00519337\n",
      "[133]\ttrain-auc:0.932228+0.000998252\ttest-auc:0.880788+0.00519888\n",
      "[134]\ttrain-auc:0.93255+0.000957384\ttest-auc:0.880844+0.00520274\n",
      "[135]\ttrain-auc:0.932823+0.000963871\ttest-auc:0.880943+0.00520258\n",
      "[136]\ttrain-auc:0.933244+0.00103774\ttest-auc:0.880951+0.0052482\n",
      "[137]\ttrain-auc:0.933577+0.00111858\ttest-auc:0.880972+0.00525847\n",
      "[138]\ttrain-auc:0.933976+0.00117096\ttest-auc:0.881076+0.00525206\n",
      "[139]\ttrain-auc:0.934312+0.00116654\ttest-auc:0.88106+0.00519466\n",
      "[140]\ttrain-auc:0.934527+0.00110341\ttest-auc:0.881061+0.00518434\n",
      "[141]\ttrain-auc:0.934926+0.00115223\ttest-auc:0.881086+0.00516114\n",
      "[142]\ttrain-auc:0.935147+0.00113265\ttest-auc:0.88117+0.00526852\n",
      "[143]\ttrain-auc:0.935402+0.00107856\ttest-auc:0.881153+0.00529426\n",
      "[144]\ttrain-auc:0.935685+0.00100263\ttest-auc:0.881145+0.00526577\n",
      "[145]\ttrain-auc:0.935969+0.00108379\ttest-auc:0.881206+0.00531699\n",
      "[146]\ttrain-auc:0.936336+0.00118162\ttest-auc:0.881219+0.00526\n",
      "[147]\ttrain-auc:0.936672+0.00126909\ttest-auc:0.881261+0.00533851\n",
      "[148]\ttrain-auc:0.936906+0.00125495\ttest-auc:0.881273+0.00537484\n",
      "[149]\ttrain-auc:0.937211+0.00130017\ttest-auc:0.881289+0.00542508\n",
      "[150]\ttrain-auc:0.93749+0.00127758\ttest-auc:0.881359+0.00545702\n",
      "[151]\ttrain-auc:0.937857+0.00127484\ttest-auc:0.881365+0.0054988\n",
      "[152]\ttrain-auc:0.938261+0.00128692\ttest-auc:0.881467+0.00556461\n",
      "[153]\ttrain-auc:0.938504+0.00134054\ttest-auc:0.881372+0.00554144\n",
      "[154]\ttrain-auc:0.938789+0.00131227\ttest-auc:0.88135+0.00544351\n",
      "[155]\ttrain-auc:0.939127+0.00138986\ttest-auc:0.881379+0.00539588\n",
      "[156]\ttrain-auc:0.939372+0.00147621\ttest-auc:0.881381+0.00540234\n",
      "[157]\ttrain-auc:0.93962+0.00149768\ttest-auc:0.881369+0.00538631\n",
      "[158]\ttrain-auc:0.939831+0.00150103\ttest-auc:0.881374+0.00530843\n",
      "[159]\ttrain-auc:0.940099+0.00158236\ttest-auc:0.881514+0.00522642\n",
      "[160]\ttrain-auc:0.940357+0.00156301\ttest-auc:0.881476+0.00519487\n",
      "[161]\ttrain-auc:0.940708+0.0015418\ttest-auc:0.881415+0.00522461\n",
      "[162]\ttrain-auc:0.940927+0.00160055\ttest-auc:0.881479+0.00518812\n",
      "[163]\ttrain-auc:0.941192+0.00162011\ttest-auc:0.881528+0.00517342\n",
      "[164]\ttrain-auc:0.941497+0.00159491\ttest-auc:0.881601+0.0051779\n",
      "[165]\ttrain-auc:0.94176+0.00158826\ttest-auc:0.881665+0.00514382\n",
      "[166]\ttrain-auc:0.942045+0.00153717\ttest-auc:0.881691+0.00511631\n",
      "[167]\ttrain-auc:0.942379+0.00137429\ttest-auc:0.881632+0.0052204\n",
      "[168]\ttrain-auc:0.942724+0.00131039\ttest-auc:0.881636+0.0053161\n",
      "[169]\ttrain-auc:0.942952+0.00117902\ttest-auc:0.881545+0.00528253\n",
      "[170]\ttrain-auc:0.943303+0.00134102\ttest-auc:0.881534+0.00531955\n",
      "[171]\ttrain-auc:0.943498+0.00134383\ttest-auc:0.881428+0.00527916\n",
      "[172]\ttrain-auc:0.943795+0.00137533\ttest-auc:0.881289+0.00526513\n",
      "[173]\ttrain-auc:0.944021+0.00131652\ttest-auc:0.8813+0.00522233\n",
      "[174]\ttrain-auc:0.944203+0.00132526\ttest-auc:0.881285+0.00512305\n",
      "[175]\ttrain-auc:0.94439+0.00137356\ttest-auc:0.881302+0.00520694\n",
      "[176]\ttrain-auc:0.944653+0.0014016\ttest-auc:0.881318+0.00538328\n",
      "[177]\ttrain-auc:0.94485+0.00146151\ttest-auc:0.881321+0.00549243\n",
      "[178]\ttrain-auc:0.945114+0.0014203\ttest-auc:0.881161+0.0055446\n",
      "[179]\ttrain-auc:0.94529+0.00140743\ttest-auc:0.881124+0.0055566\n",
      "[180]\ttrain-auc:0.945549+0.00143536\ttest-auc:0.881071+0.00555834\n",
      "[181]\ttrain-auc:0.945767+0.00144206\ttest-auc:0.881055+0.00551946\n",
      "[182]\ttrain-auc:0.945985+0.00150829\ttest-auc:0.881089+0.00562918\n",
      "[183]\ttrain-auc:0.946315+0.0015392\ttest-auc:0.88106+0.00567888\n",
      "[184]\ttrain-auc:0.946569+0.00154993\ttest-auc:0.881036+0.00578588\n",
      "[185]\ttrain-auc:0.946825+0.00160179\ttest-auc:0.880978+0.00578284\n",
      "[186]\ttrain-auc:0.946964+0.0016499\ttest-auc:0.880908+0.00575126\n",
      "[187]\ttrain-auc:0.947206+0.00157892\ttest-auc:0.880943+0.00579719\n",
      "[188]\ttrain-auc:0.947454+0.00149696\ttest-auc:0.880859+0.00572168\n",
      "[189]\ttrain-auc:0.94767+0.00150134\ttest-auc:0.880851+0.0056954\n",
      "[190]\ttrain-auc:0.947922+0.00142175\ttest-auc:0.880738+0.00570291\n",
      "[191]\ttrain-auc:0.94823+0.00146996\ttest-auc:0.880895+0.00578852\n",
      "[192]\ttrain-auc:0.948525+0.00147128\ttest-auc:0.880837+0.00568965\n",
      "[193]\ttrain-auc:0.948705+0.00143481\ttest-auc:0.880892+0.0056402\n",
      "[194]\ttrain-auc:0.948859+0.00150006\ttest-auc:0.880954+0.0056601\n",
      "[195]\ttrain-auc:0.949073+0.00148443\ttest-auc:0.880866+0.00566159\n",
      "[196]\ttrain-auc:0.949216+0.00150001\ttest-auc:0.880795+0.00566135\n",
      "[197]\ttrain-auc:0.94946+0.00147888\ttest-auc:0.880761+0.00563966\n",
      "[198]\ttrain-auc:0.949626+0.00146085\ttest-auc:0.880898+0.00565335\n",
      "[199]\ttrain-auc:0.949851+0.00151169\ttest-auc:0.880876+0.00566462\n",
      "[200]\ttrain-auc:0.950098+0.0014091\ttest-auc:0.880777+0.00561377\n",
      "[201]\ttrain-auc:0.950366+0.00135477\ttest-auc:0.880685+0.0055192\n",
      "[202]\ttrain-auc:0.950637+0.00142131\ttest-auc:0.880768+0.00548628\n",
      "[203]\ttrain-auc:0.950877+0.0013958\ttest-auc:0.880763+0.00550618\n",
      "[204]\ttrain-auc:0.951066+0.00140853\ttest-auc:0.880703+0.00554152\n",
      "[205]\ttrain-auc:0.951268+0.0013731\ttest-auc:0.880644+0.00562828\n",
      "[206]\ttrain-auc:0.951543+0.00138428\ttest-auc:0.880555+0.00558428\n",
      "[207]\ttrain-auc:0.951686+0.00137652\ttest-auc:0.880484+0.00558156\n",
      "[208]\ttrain-auc:0.951848+0.00139413\ttest-auc:0.880479+0.00549295\n",
      "[209]\ttrain-auc:0.951984+0.00146941\ttest-auc:0.880447+0.0055424\n",
      "[210]\ttrain-auc:0.952225+0.00150713\ttest-auc:0.880476+0.00544084\n",
      "[211]\ttrain-auc:0.952407+0.00151312\ttest-auc:0.880573+0.00539893\n",
      "[212]\ttrain-auc:0.95274+0.00151171\ttest-auc:0.880568+0.00542065\n",
      "[213]\ttrain-auc:0.952881+0.00152326\ttest-auc:0.880525+0.00537141\n",
      "[214]\ttrain-auc:0.953007+0.0015073\ttest-auc:0.880425+0.00541125\n",
      "[215]\ttrain-auc:0.95323+0.00156488\ttest-auc:0.880416+0.00539768\n"
     ]
    },
    {
     "name": "stderr",
     "output_type": "stream",
     "text": [
      "D:\\ProgramData\\Anaconda3\\lib\\site-packages\\sklearn\\preprocessing\\label.py:151: DeprecationWarning: The truth value of an empty array is ambiguous. Returning False, but in future this will result in an error. Use `array.size > 0` to check that an array is not empty.\n",
      "  if diff:\n"
     ]
    },
    {
     "name": "stdout",
     "output_type": "stream",
     "text": [
      "\n",
      "Model Report\n",
      "Accuracy : 0.9965\n",
      "AUC Score (Train): 0.935373\n",
      "             precision    recall  f1-score   support\n",
      "\n",
      "        0.0       1.00      1.00      1.00    706610\n",
      "        1.0       0.92      0.27      0.42      3293\n",
      "\n",
      "avg / total       1.00      1.00      1.00    709903\n",
      "\n"
     ]
    },
    {
     "name": "stderr",
     "output_type": "stream",
     "text": [
      "D:\\ProgramData\\Anaconda3\\lib\\site-packages\\sklearn\\preprocessing\\label.py:151: DeprecationWarning: The truth value of an empty array is ambiguous. Returning False, but in future this will result in an error. Use `array.size > 0` to check that an array is not empty.\n",
      "  if diff:\n"
     ]
    },
    {
     "name": "stdout",
     "output_type": "stream",
     "text": [
      "AUC Score (Test): 0.871326\n",
      "Fbeta_score(Test):0.2841\n",
      "             precision    recall  f1-score   support\n",
      "\n",
      "          0       1.00      1.00      1.00    176655\n",
      "          1       0.85      0.24      0.38       821\n",
      "\n",
      "avg / total       1.00      1.00      1.00    177476\n",
      "\n"
     ]
    },
    {
     "data": {
      "image/png": "[encoded data removed]",
      "text/plain": [
       "<matplotlib.figure.Figure at 0x1ce0b9aada0>"
      ]
     },
     "metadata": {},
     "output_type": "display_data"
    }
   ],
   "source": [
    "predictors = [x for x in train_df.columns if x not in [target,IDcol]]\n",
    "xgb1 = XGBClassifier(\n",
    "        learning_rate =0.1,\n",
    "        n_estimators=1000,\n",
    "        max_depth=5,\n",
    "        min_child_weight=1,\n",
    "        gamma=0,\n",
    "        subsample=0.8,\n",
    "        colsample_bytree=0.8,\n",
    "        objective= 'binary:logistic',\n",
    "        nthread=-1,\n",
    "        scale_pos_weight=1,\n",
    "        seed=27)\n",
    "modelfit(xgb1, train_df, test_df, predictors)"
   ]
  },
  {
   "cell_type": "code",
   "execution_count": 13,
   "metadata": {},
   "outputs": [
    {
     "name": "stderr",
     "output_type": "stream",
     "text": [
      "D:\\ProgramData\\Anaconda3\\lib\\site-packages\\sklearn\\preprocessing\\label.py:151: DeprecationWarning: The truth value of an empty array is ambiguous. Returning False, but in future this will result in an error. Use `array.size > 0` to check that an array is not empty.\n",
      "  if diff:\n",
      "D:\\ProgramData\\Anaconda3\\lib\\site-packages\\sklearn\\preprocessing\\label.py:151: DeprecationWarning: The truth value of an empty array is ambiguous. Returning False, but in future this will result in an error. Use `array.size > 0` to check that an array is not empty.\n",
      "  if diff:\n"
     ]
    },
    {
     "name": "stdout",
     "output_type": "stream",
     "text": [
      "\n",
      "Model Report\n",
      "Accuracy : 0.9965\n",
      "Recall:0.9965\n",
      "AUC Score (Train): 0.935373\n",
      "AUC Score (Test): 0.871326\n",
      "Fbeta_score(Train):0.317\n",
      "Fbeta_score(Test):0.2841\n"
     ]
    }
   ],
   "source": [
    "dtrain_predictions = xgb1.predict(train_df[predictors])\n",
    "dtest_predictions = xgb1.predict(test_df[predictors])\n",
    "#     Predict on testing data:\n",
    "dtrain_predprob = xgb1.predict_proba(train_df[predictors])[:,1]\n",
    "dtest_predprob = xgb1.predict_proba(test_df[predictors])[:,1]\n",
    "\n",
    "#Print model report:\n",
    "print(\"\\nModel Report\")\n",
    "print(\"Accuracy : %.4g\" % metrics.accuracy_score(train_df['acc_now_delinq'].values, dtrain_predictions))\n",
    "print(\"Recall:%.4g\"% metrics.accuracy_score(train_df['acc_now_delinq'].values, dtrain_predictions))\n",
    "print(\"AUC Score (Train): %f\" % metrics.roc_auc_score(train_df['acc_now_delinq'], dtrain_predprob))\n",
    "print(\"AUC Score (Test): %f\" % metrics.roc_auc_score(label['acc_now_delinq'], dtest_predprob))\n",
    "\n",
    "print(\"Fbeta_score(Train):%.4g\"% metrics.fbeta_score(train_df['acc_now_delinq'].values, dtrain_predictions, beta = 2))\n",
    "print(\"Fbeta_score(Test):%.4g\"% metrics.fbeta_score(label['acc_now_delinq'].values, dtest_predictions, beta = 2))\n"
   ]
  },
  {
   "cell_type": "code",
   "execution_count": 14,
   "metadata": {
    "collapsed": true
   },
   "outputs": [],
   "source": [
    "def f2_score(preds, label):  # preds是结果（概率值），dtrain是个带label的DMatrix\n",
    "    beta = 2\n",
    "\n",
    "    # preds = 1.0 / (1.0 + np.exp(-preds))\n",
    "    pred = [int(i >= 0.3) for i in preds]\n",
    "\n",
    "    precision = metrics.precision_score(label,pred)\n",
    "    recall = metrics.recall_score(label,pred)\n",
    "\n",
    "    return 'f2_score', ((np.square(beta)+1)*precision * recall / (np.square(beta)*precision + recall))"
   ]
  },
  {
   "cell_type": "code",
   "execution_count": 15,
   "metadata": {},
   "outputs": [
    {
     "data": {
      "text/plain": [
       "('f2_score', 0.2862000566732786)"
      ]
     },
     "execution_count": 15,
     "metadata": {},
     "output_type": "execute_result"
    }
   ],
   "source": [
    "f2_score(dtest_predprob, label['acc_now_delinq'])"
   ]
  },
  {
   "cell_type": "code",
   "execution_count": 35,
   "metadata": {},
   "outputs": [
    {
     "data": {
      "text/plain": [
       "Text(0.5,1,'2-class Precision-Recall curve:')"
      ]
     },
     "execution_count": 35,
     "metadata": {},
     "output_type": "execute_result"
    }
   ],
   "source": [
    "_"
   ]
  },
  {
   "cell_type": "code",
   "execution_count": 16,
   "metadata": {},
   "outputs": [
    {
     "data": {
      "text/plain": [
       "<matplotlib.text.Text at 0x1ce0d20e400>"
      ]
     },
     "execution_count": 16,
     "metadata": {},
     "output_type": "execute_result"
    },
    {
     "data": {
      "image/png": "[encoded data removed]",
      "text/plain": [
       "<matplotlib.figure.Figure at 0x1ce0ba6ce10>"
      ]
     },
     "metadata": {},
     "output_type": "display_data"
    }
   ],
   "source": [
    "from sklearn.metrics import precision_recall_curve\n",
    "import matplotlib.pyplot as plt\n",
    "\n",
    "precision, recall, _ = precision_recall_curve(label['acc_now_delinq'], dtest_predprob)\n",
    "\n",
    "plt.step(recall, precision, color='b', alpha=0.2,\n",
    "         where='post')\n",
    "plt.fill_between(recall, precision, step='post', alpha=0.2,\n",
    "                 color='b')\n",
    "\n",
    "plt.xlabel('Recall')\n",
    "plt.ylabel('Precision')\n",
    "plt.ylim([0.0, 1.05])\n",
    "plt.xlim([0.0, 1.0])\n",
    "plt.title('2-class Precision-Recall curve:')"
   ]
  },
  {
   "cell_type": "code",
   "execution_count": null,
   "metadata": {
    "collapsed": true
   },
   "outputs": [],
   "source": [
    "#Grid seach on subsample and max_features\n",
    "#Choose all predictors except target & IDcols\n",
    "param_test1 = {\n",
    "    'max_depth':np.arange(3,10,2),\n",
    "    'min_child_weight':np.arange(1,6,2)\n",
    "}\n",
    "gsearch1 = GridSearchCV(estimator = XGBClassifier( learning_rate =0.1, n_estimators=140, max_depth=5,\n",
    "                                        min_child_weight=1, gamma=0, subsample=0.8, colsample_bytree=0.8,\n",
    "                                        objective= 'binary:logistic', nthread=-1, scale_pos_weight=1, seed=27), \n",
    "                       param_grid = param_test1, scoring='roc_auc',n_jobs=-1,iid=False, cv=5)\n",
    "gsearch1.fit(train_df[predictors],train_df[target])"
   ]
  },
  {
   "cell_type": "code",
   "execution_count": null,
   "metadata": {
    "collapsed": true
   },
   "outputs": [],
   "source": [
    "gsearch1.grid_scores_, gsearch1.best_params_, gsearch1.best_score_"
   ]
  },
  {
   "cell_type": "code",
   "execution_count": null,
   "metadata": {
    "collapsed": true
   },
   "outputs": [],
   "source": [
    "y_score = alg.decision_function(X_test)"
   ]
  },
  {
   "cell_type": "code",
   "execution_count": 11,
   "metadata": {},
   "outputs": [
    {
     "ename": "NameError",
     "evalue": "name 'y_test' is not defined",
     "output_type": "error",
     "traceback": [
      "\u001b[0;31m---------------------------------------------------------------------------\u001b[0m",
      "\u001b[0;31mNameError\u001b[0m                                 Traceback (most recent call last)",
      "\u001b[0;32m<ipython-input-11-c23fb5e45013>\u001b[0m in \u001b[0;36m<module>\u001b[0;34m()\u001b[0m\n\u001b[1;32m      1\u001b[0m \u001b[1;32mfrom\u001b[0m \u001b[0msklearn\u001b[0m\u001b[1;33m.\u001b[0m\u001b[0mmetrics\u001b[0m \u001b[1;32mimport\u001b[0m \u001b[0maverage_precision_score\u001b[0m\u001b[1;33m\u001b[0m\u001b[0m\n\u001b[0;32m----> 2\u001b[0;31m \u001b[0maverage_precision\u001b[0m \u001b[1;33m=\u001b[0m \u001b[0maverage_precision_score\u001b[0m\u001b[1;33m(\u001b[0m\u001b[0my_test\u001b[0m\u001b[1;33m,\u001b[0m \u001b[0mdtest\u001b[0m\u001b[1;33m[\u001b[0m\u001b[1;34m'predprob'\u001b[0m\u001b[1;33m]\u001b[0m\u001b[1;33m)\u001b[0m\u001b[1;33m\u001b[0m\u001b[0m\n\u001b[0m\u001b[1;32m      3\u001b[0m \u001b[1;33m\u001b[0m\u001b[0m\n\u001b[1;32m      4\u001b[0m print('Average precision-recall score: {0:0.2f}'.format(\n\u001b[1;32m      5\u001b[0m       average_precision))\n",
      "\u001b[0;31mNameError\u001b[0m: name 'y_test' is not defined"
     ]
    }
   ],
   "source": [
    "from sklearn.metrics import average_precision_score\n",
    "average_precision = average_precision_score(y_test, dtest['predprob'])\n",
    "\n",
    "print('Average precision-recall score: {0:0.2f}'.format(\n",
    "      average_precision))"
   ]
  },
  {
   "cell_type": "code",
   "execution_count": null,
   "metadata": {
    "collapsed": true
   },
   "outputs": [],
   "source": []
  }
 ],
 "metadata": {
  "kernelspec": {
   "display_name": "Python 3",
   "language": "python",
   "name": "python3"
  },
  "language_info": {
   "codemirror_mode": {
    "name": "ipython",
    "version": 3
   },
   "file_extension": ".py",
   "mimetype": "text/x-python",
   "name": "python",
   "nbconvert_exporter": "python",
   "pygments_lexer": "ipython3",
   "version": "3.6.2"
  }
 },
 "nbformat": 4,
 "nbformat_minor": 2
}
